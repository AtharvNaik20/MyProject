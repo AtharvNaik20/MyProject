{
 "cells": [
  {
   "cell_type": "code",
   "execution_count": 3,
   "id": "b0ee47a1-3f76-4272-907d-fd8792c72d69",
   "metadata": {},
   "outputs": [],
   "source": [
    "import numpy as np\n",
    "import pandas as pd\n",
    "import matplotlib.pyplot as plt\n",
    "import seaborn as sns\n",
    "import warnings\n",
    "warnings.filterwarnings('ignore')"
   ]
  },
  {
   "cell_type": "code",
   "execution_count": 4,
   "id": "c66cb837-3030-463e-bdda-d71825cb48b5",
   "metadata": {},
   "outputs": [],
   "source": [
    "store = pd.read_csv('store.csv',low_memory=False)"
   ]
  },
  {
   "cell_type": "code",
   "execution_count": 5,
   "id": "f6401843-c71b-498c-bf4d-5007c45dfeb8",
   "metadata": {},
   "outputs": [
    {
     "data": {
      "text/plain": [
       "(1115, 10)"
      ]
     },
     "execution_count": 5,
     "metadata": {},
     "output_type": "execute_result"
    }
   ],
   "source": [
    "store.shape"
   ]
  },
  {
   "cell_type": "code",
   "execution_count": 6,
   "id": "a27801e6-79bf-4213-8f86-e8f50e7f5c53",
   "metadata": {},
   "outputs": [
    {
     "data": {
      "text/html": [
       "<div>\n",
       "<style scoped>\n",
       "    .dataframe tbody tr th:only-of-type {\n",
       "        vertical-align: middle;\n",
       "    }\n",
       "\n",
       "    .dataframe tbody tr th {\n",
       "        vertical-align: top;\n",
       "    }\n",
       "\n",
       "    .dataframe thead th {\n",
       "        text-align: right;\n",
       "    }\n",
       "</style>\n",
       "<table border=\"1\" class=\"dataframe\">\n",
       "  <thead>\n",
       "    <tr style=\"text-align: right;\">\n",
       "      <th></th>\n",
       "      <th>Store</th>\n",
       "      <th>StoreType</th>\n",
       "      <th>Assortment</th>\n",
       "      <th>CompetitionDistance</th>\n",
       "      <th>CompetitionOpenSinceMonth</th>\n",
       "      <th>CompetitionOpenSinceYear</th>\n",
       "      <th>Promo2</th>\n",
       "      <th>Promo2SinceWeek</th>\n",
       "      <th>Promo2SinceYear</th>\n",
       "      <th>PromoInterval</th>\n",
       "    </tr>\n",
       "  </thead>\n",
       "  <tbody>\n",
       "    <tr>\n",
       "      <th>0</th>\n",
       "      <td>1</td>\n",
       "      <td>c</td>\n",
       "      <td>a</td>\n",
       "      <td>1270.0</td>\n",
       "      <td>9.0</td>\n",
       "      <td>2008.0</td>\n",
       "      <td>0</td>\n",
       "      <td>NaN</td>\n",
       "      <td>NaN</td>\n",
       "      <td>NaN</td>\n",
       "    </tr>\n",
       "    <tr>\n",
       "      <th>1</th>\n",
       "      <td>2</td>\n",
       "      <td>a</td>\n",
       "      <td>a</td>\n",
       "      <td>570.0</td>\n",
       "      <td>11.0</td>\n",
       "      <td>2007.0</td>\n",
       "      <td>1</td>\n",
       "      <td>13.0</td>\n",
       "      <td>2010.0</td>\n",
       "      <td>Jan,Apr,Jul,Oct</td>\n",
       "    </tr>\n",
       "    <tr>\n",
       "      <th>2</th>\n",
       "      <td>3</td>\n",
       "      <td>a</td>\n",
       "      <td>a</td>\n",
       "      <td>14130.0</td>\n",
       "      <td>12.0</td>\n",
       "      <td>2006.0</td>\n",
       "      <td>1</td>\n",
       "      <td>14.0</td>\n",
       "      <td>2011.0</td>\n",
       "      <td>Jan,Apr,Jul,Oct</td>\n",
       "    </tr>\n",
       "    <tr>\n",
       "      <th>3</th>\n",
       "      <td>4</td>\n",
       "      <td>c</td>\n",
       "      <td>c</td>\n",
       "      <td>620.0</td>\n",
       "      <td>9.0</td>\n",
       "      <td>2009.0</td>\n",
       "      <td>0</td>\n",
       "      <td>NaN</td>\n",
       "      <td>NaN</td>\n",
       "      <td>NaN</td>\n",
       "    </tr>\n",
       "    <tr>\n",
       "      <th>4</th>\n",
       "      <td>5</td>\n",
       "      <td>a</td>\n",
       "      <td>a</td>\n",
       "      <td>29910.0</td>\n",
       "      <td>4.0</td>\n",
       "      <td>2015.0</td>\n",
       "      <td>0</td>\n",
       "      <td>NaN</td>\n",
       "      <td>NaN</td>\n",
       "      <td>NaN</td>\n",
       "    </tr>\n",
       "  </tbody>\n",
       "</table>\n",
       "</div>"
      ],
      "text/plain": [
       "   Store StoreType Assortment  CompetitionDistance  ...  Promo2  Promo2SinceWeek  Promo2SinceYear    PromoInterval\n",
       "0      1         c          a               1270.0  ...       0              NaN              NaN              NaN\n",
       "1      2         a          a                570.0  ...       1             13.0           2010.0  Jan,Apr,Jul,Oct\n",
       "2      3         a          a              14130.0  ...       1             14.0           2011.0  Jan,Apr,Jul,Oct\n",
       "3      4         c          c                620.0  ...       0              NaN              NaN              NaN\n",
       "4      5         a          a              29910.0  ...       0              NaN              NaN              NaN\n",
       "\n",
       "[5 rows x 10 columns]"
      ]
     },
     "execution_count": 6,
     "metadata": {},
     "output_type": "execute_result"
    }
   ],
   "source": [
    "store.head()"
   ]
  },
  {
   "cell_type": "code",
   "execution_count": 7,
   "id": "8679481c-0bce-4ef4-b866-f8cfad980e19",
   "metadata": {},
   "outputs": [],
   "source": [
    "train = pd.read_csv('train.csv')"
   ]
  },
  {
   "cell_type": "code",
   "execution_count": 8,
   "id": "be02b961-781a-4c29-b298-82e9b5fb6667",
   "metadata": {},
   "outputs": [
    {
     "data": {
      "text/plain": [
       "(1017209, 9)"
      ]
     },
     "execution_count": 8,
     "metadata": {},
     "output_type": "execute_result"
    }
   ],
   "source": [
    "train.shape"
   ]
  },
  {
   "cell_type": "code",
   "execution_count": 9,
   "id": "5bab6d78-d765-4b98-9860-bee78d786625",
   "metadata": {},
   "outputs": [
    {
     "data": {
      "text/html": [
       "<div>\n",
       "<style scoped>\n",
       "    .dataframe tbody tr th:only-of-type {\n",
       "        vertical-align: middle;\n",
       "    }\n",
       "\n",
       "    .dataframe tbody tr th {\n",
       "        vertical-align: top;\n",
       "    }\n",
       "\n",
       "    .dataframe thead th {\n",
       "        text-align: right;\n",
       "    }\n",
       "</style>\n",
       "<table border=\"1\" class=\"dataframe\">\n",
       "  <thead>\n",
       "    <tr style=\"text-align: right;\">\n",
       "      <th></th>\n",
       "      <th>Store</th>\n",
       "      <th>DayOfWeek</th>\n",
       "      <th>Date</th>\n",
       "      <th>Sales</th>\n",
       "      <th>Customers</th>\n",
       "      <th>Open</th>\n",
       "      <th>Promo</th>\n",
       "      <th>StateHoliday</th>\n",
       "      <th>SchoolHoliday</th>\n",
       "    </tr>\n",
       "  </thead>\n",
       "  <tbody>\n",
       "    <tr>\n",
       "      <th>0</th>\n",
       "      <td>1</td>\n",
       "      <td>5</td>\n",
       "      <td>2015-07-31</td>\n",
       "      <td>5263</td>\n",
       "      <td>555</td>\n",
       "      <td>1</td>\n",
       "      <td>1</td>\n",
       "      <td>0</td>\n",
       "      <td>1</td>\n",
       "    </tr>\n",
       "    <tr>\n",
       "      <th>1</th>\n",
       "      <td>2</td>\n",
       "      <td>5</td>\n",
       "      <td>2015-07-31</td>\n",
       "      <td>6064</td>\n",
       "      <td>625</td>\n",
       "      <td>1</td>\n",
       "      <td>1</td>\n",
       "      <td>0</td>\n",
       "      <td>1</td>\n",
       "    </tr>\n",
       "    <tr>\n",
       "      <th>2</th>\n",
       "      <td>3</td>\n",
       "      <td>5</td>\n",
       "      <td>2015-07-31</td>\n",
       "      <td>8314</td>\n",
       "      <td>821</td>\n",
       "      <td>1</td>\n",
       "      <td>1</td>\n",
       "      <td>0</td>\n",
       "      <td>1</td>\n",
       "    </tr>\n",
       "    <tr>\n",
       "      <th>3</th>\n",
       "      <td>4</td>\n",
       "      <td>5</td>\n",
       "      <td>2015-07-31</td>\n",
       "      <td>13995</td>\n",
       "      <td>1498</td>\n",
       "      <td>1</td>\n",
       "      <td>1</td>\n",
       "      <td>0</td>\n",
       "      <td>1</td>\n",
       "    </tr>\n",
       "    <tr>\n",
       "      <th>4</th>\n",
       "      <td>5</td>\n",
       "      <td>5</td>\n",
       "      <td>2015-07-31</td>\n",
       "      <td>4822</td>\n",
       "      <td>559</td>\n",
       "      <td>1</td>\n",
       "      <td>1</td>\n",
       "      <td>0</td>\n",
       "      <td>1</td>\n",
       "    </tr>\n",
       "  </tbody>\n",
       "</table>\n",
       "</div>"
      ],
      "text/plain": [
       "   Store  DayOfWeek        Date  Sales  Customers  Open  Promo StateHoliday  SchoolHoliday\n",
       "0      1          5  2015-07-31   5263        555     1      1            0              1\n",
       "1      2          5  2015-07-31   6064        625     1      1            0              1\n",
       "2      3          5  2015-07-31   8314        821     1      1            0              1\n",
       "3      4          5  2015-07-31  13995       1498     1      1            0              1\n",
       "4      5          5  2015-07-31   4822        559     1      1            0              1"
      ]
     },
     "execution_count": 9,
     "metadata": {},
     "output_type": "execute_result"
    }
   ],
   "source": [
    "train.head()"
   ]
  },
  {
   "cell_type": "code",
   "execution_count": 10,
   "id": "0e421411-6a19-43b3-8c49-4253a80a516a",
   "metadata": {},
   "outputs": [],
   "source": [
    "df = store.merge(train,on=['Store'],how='inner')"
   ]
  },
  {
   "cell_type": "code",
   "execution_count": 11,
   "id": "f6a84b48-54f9-4009-bc9c-82706b5c6249",
   "metadata": {},
   "outputs": [
    {
     "data": {
      "text/html": [
       "<div>\n",
       "<style scoped>\n",
       "    .dataframe tbody tr th:only-of-type {\n",
       "        vertical-align: middle;\n",
       "    }\n",
       "\n",
       "    .dataframe tbody tr th {\n",
       "        vertical-align: top;\n",
       "    }\n",
       "\n",
       "    .dataframe thead th {\n",
       "        text-align: right;\n",
       "    }\n",
       "</style>\n",
       "<table border=\"1\" class=\"dataframe\">\n",
       "  <thead>\n",
       "    <tr style=\"text-align: right;\">\n",
       "      <th></th>\n",
       "      <th>Store</th>\n",
       "      <th>StoreType</th>\n",
       "      <th>Assortment</th>\n",
       "      <th>CompetitionDistance</th>\n",
       "      <th>CompetitionOpenSinceMonth</th>\n",
       "      <th>CompetitionOpenSinceYear</th>\n",
       "      <th>Promo2</th>\n",
       "      <th>Promo2SinceWeek</th>\n",
       "      <th>Promo2SinceYear</th>\n",
       "      <th>PromoInterval</th>\n",
       "      <th>DayOfWeek</th>\n",
       "      <th>Date</th>\n",
       "      <th>Sales</th>\n",
       "      <th>Customers</th>\n",
       "      <th>Open</th>\n",
       "      <th>Promo</th>\n",
       "      <th>StateHoliday</th>\n",
       "      <th>SchoolHoliday</th>\n",
       "    </tr>\n",
       "  </thead>\n",
       "  <tbody>\n",
       "    <tr>\n",
       "      <th>0</th>\n",
       "      <td>1</td>\n",
       "      <td>c</td>\n",
       "      <td>a</td>\n",
       "      <td>1270.0</td>\n",
       "      <td>9.0</td>\n",
       "      <td>2008.0</td>\n",
       "      <td>0</td>\n",
       "      <td>NaN</td>\n",
       "      <td>NaN</td>\n",
       "      <td>NaN</td>\n",
       "      <td>5</td>\n",
       "      <td>2015-07-31</td>\n",
       "      <td>5263</td>\n",
       "      <td>555</td>\n",
       "      <td>1</td>\n",
       "      <td>1</td>\n",
       "      <td>0</td>\n",
       "      <td>1</td>\n",
       "    </tr>\n",
       "    <tr>\n",
       "      <th>1</th>\n",
       "      <td>1</td>\n",
       "      <td>c</td>\n",
       "      <td>a</td>\n",
       "      <td>1270.0</td>\n",
       "      <td>9.0</td>\n",
       "      <td>2008.0</td>\n",
       "      <td>0</td>\n",
       "      <td>NaN</td>\n",
       "      <td>NaN</td>\n",
       "      <td>NaN</td>\n",
       "      <td>4</td>\n",
       "      <td>2015-07-30</td>\n",
       "      <td>5020</td>\n",
       "      <td>546</td>\n",
       "      <td>1</td>\n",
       "      <td>1</td>\n",
       "      <td>0</td>\n",
       "      <td>1</td>\n",
       "    </tr>\n",
       "    <tr>\n",
       "      <th>2</th>\n",
       "      <td>1</td>\n",
       "      <td>c</td>\n",
       "      <td>a</td>\n",
       "      <td>1270.0</td>\n",
       "      <td>9.0</td>\n",
       "      <td>2008.0</td>\n",
       "      <td>0</td>\n",
       "      <td>NaN</td>\n",
       "      <td>NaN</td>\n",
       "      <td>NaN</td>\n",
       "      <td>3</td>\n",
       "      <td>2015-07-29</td>\n",
       "      <td>4782</td>\n",
       "      <td>523</td>\n",
       "      <td>1</td>\n",
       "      <td>1</td>\n",
       "      <td>0</td>\n",
       "      <td>1</td>\n",
       "    </tr>\n",
       "    <tr>\n",
       "      <th>3</th>\n",
       "      <td>1</td>\n",
       "      <td>c</td>\n",
       "      <td>a</td>\n",
       "      <td>1270.0</td>\n",
       "      <td>9.0</td>\n",
       "      <td>2008.0</td>\n",
       "      <td>0</td>\n",
       "      <td>NaN</td>\n",
       "      <td>NaN</td>\n",
       "      <td>NaN</td>\n",
       "      <td>2</td>\n",
       "      <td>2015-07-28</td>\n",
       "      <td>5011</td>\n",
       "      <td>560</td>\n",
       "      <td>1</td>\n",
       "      <td>1</td>\n",
       "      <td>0</td>\n",
       "      <td>1</td>\n",
       "    </tr>\n",
       "    <tr>\n",
       "      <th>4</th>\n",
       "      <td>1</td>\n",
       "      <td>c</td>\n",
       "      <td>a</td>\n",
       "      <td>1270.0</td>\n",
       "      <td>9.0</td>\n",
       "      <td>2008.0</td>\n",
       "      <td>0</td>\n",
       "      <td>NaN</td>\n",
       "      <td>NaN</td>\n",
       "      <td>NaN</td>\n",
       "      <td>1</td>\n",
       "      <td>2015-07-27</td>\n",
       "      <td>6102</td>\n",
       "      <td>612</td>\n",
       "      <td>1</td>\n",
       "      <td>1</td>\n",
       "      <td>0</td>\n",
       "      <td>1</td>\n",
       "    </tr>\n",
       "  </tbody>\n",
       "</table>\n",
       "</div>"
      ],
      "text/plain": [
       "   Store StoreType Assortment  CompetitionDistance  ...  Open  Promo  StateHoliday  SchoolHoliday\n",
       "0      1         c          a               1270.0  ...     1      1             0              1\n",
       "1      1         c          a               1270.0  ...     1      1             0              1\n",
       "2      1         c          a               1270.0  ...     1      1             0              1\n",
       "3      1         c          a               1270.0  ...     1      1             0              1\n",
       "4      1         c          a               1270.0  ...     1      1             0              1\n",
       "\n",
       "[5 rows x 18 columns]"
      ]
     },
     "execution_count": 11,
     "metadata": {},
     "output_type": "execute_result"
    }
   ],
   "source": [
    "df.head()"
   ]
  },
  {
   "cell_type": "code",
   "execution_count": 12,
   "id": "b8357339-cfe8-4ff6-a5e4-626bdc8aafa5",
   "metadata": {},
   "outputs": [
    {
     "data": {
      "text/plain": [
       "(1017209, 18)"
      ]
     },
     "execution_count": 12,
     "metadata": {},
     "output_type": "execute_result"
    }
   ],
   "source": [
    "df.shape"
   ]
  },
  {
   "cell_type": "code",
   "execution_count": 13,
   "id": "d65d2c77-e098-4b4a-b74e-413888c1797b",
   "metadata": {},
   "outputs": [
    {
     "data": {
      "text/plain": [
       "1115"
      ]
     },
     "execution_count": 13,
     "metadata": {},
     "output_type": "execute_result"
    }
   ],
   "source": [
    "len(df['Store'].unique())"
   ]
  },
  {
   "cell_type": "code",
   "execution_count": 14,
   "id": "cadd21ae-f7ca-4e9b-882d-139d4ef7dff4",
   "metadata": {},
   "outputs": [
    {
     "data": {
      "text/plain": [
       "942"
      ]
     },
     "execution_count": 14,
     "metadata": {},
     "output_type": "execute_result"
    }
   ],
   "source": [
    "len(df['Date'].unique())"
   ]
  },
  {
   "cell_type": "code",
   "execution_count": 15,
   "id": "9d9ff4dc-c19b-4856-8f17-afc083feb56d",
   "metadata": {},
   "outputs": [
    {
     "data": {
      "text/plain": [
       "5773.818972305593"
      ]
     },
     "execution_count": 15,
     "metadata": {},
     "output_type": "execute_result"
    }
   ],
   "source": [
    "df['Sales'].mean()"
   ]
  },
  {
   "cell_type": "code",
   "execution_count": 16,
   "id": "f4b62844-18b3-4fc8-a8ca-8e4de7cd3b5b",
   "metadata": {},
   "outputs": [
    {
     "data": {
      "text/plain": [
       "Store\n",
       "1        3945.704883\n",
       "2        4122.991507\n",
       "3        5741.253715\n",
       "4        8021.769639\n",
       "5        3867.110403\n",
       "            ...     \n",
       "1111     4342.968153\n",
       "1112     8465.280255\n",
       "1113     5516.180467\n",
       "1114    17200.196391\n",
       "1115     5225.296178\n",
       "Name: Sales, Length: 1115, dtype: float64"
      ]
     },
     "execution_count": 16,
     "metadata": {},
     "output_type": "execute_result"
    }
   ],
   "source": [
    "df.groupby('Store')['Sales'].mean()"
   ]
  },
  {
   "cell_type": "code",
   "execution_count": 17,
   "id": "131bdafc-0666-417b-9cd5-47962ff5a55a",
   "metadata": {},
   "outputs": [
    {
     "data": {
      "text/plain": [
       "DayOfWeek\n",
       "1    144730\n",
       "2    145664\n",
       "3    145665\n",
       "4    145845\n",
       "5    145845\n",
       "6    144730\n",
       "7    144730\n",
       "Name: Sales, dtype: int64"
      ]
     },
     "execution_count": 17,
     "metadata": {},
     "output_type": "execute_result"
    }
   ],
   "source": [
    "df.groupby('DayOfWeek')['Sales'].count()"
   ]
  },
  {
   "cell_type": "code",
   "execution_count": 18,
   "id": "e6ebb5c3-f660-41ad-a934-1880b251f515",
   "metadata": {},
   "outputs": [
    {
     "data": {
      "text/plain": [
       "Store                          int64\n",
       "StoreType                     object\n",
       "Assortment                    object\n",
       "CompetitionDistance          float64\n",
       "CompetitionOpenSinceMonth    float64\n",
       "CompetitionOpenSinceYear     float64\n",
       "Promo2                         int64\n",
       "Promo2SinceWeek              float64\n",
       "Promo2SinceYear              float64\n",
       "PromoInterval                 object\n",
       "DayOfWeek                      int64\n",
       "Date                          object\n",
       "Sales                          int64\n",
       "Customers                      int64\n",
       "Open                           int64\n",
       "Promo                          int64\n",
       "StateHoliday                  object\n",
       "SchoolHoliday                  int64\n",
       "dtype: object"
      ]
     },
     "execution_count": 18,
     "metadata": {},
     "output_type": "execute_result"
    }
   ],
   "source": [
    "df.dtypes"
   ]
  },
  {
   "cell_type": "code",
   "execution_count": 19,
   "id": "5e3e099b-6a60-49be-9f40-11daaf00aa8b",
   "metadata": {},
   "outputs": [
    {
     "data": {
      "text/plain": [
       "DayOfWeek\n",
       "5    145845\n",
       "4    145845\n",
       "3    145665\n",
       "2    145664\n",
       "1    144730\n",
       "7    144730\n",
       "6    144730\n",
       "Name: count, dtype: int64"
      ]
     },
     "execution_count": 19,
     "metadata": {},
     "output_type": "execute_result"
    }
   ],
   "source": [
    "df['DayOfWeek'].value_counts()"
   ]
  },
  {
   "cell_type": "code",
   "execution_count": 20,
   "id": "30aecbc3-8d89-4f2c-bc9e-c2ebcf119694",
   "metadata": {},
   "outputs": [],
   "source": [
    "df['Date'] = pd.to_datetime(df['Date'],infer_datetime_format=True)"
   ]
  },
  {
   "cell_type": "code",
   "execution_count": 21,
   "id": "423a6d68-848d-4338-9632-75ee804d6fca",
   "metadata": {},
   "outputs": [],
   "source": [
    "df['Year'] = df['Date'].dt.year"
   ]
  },
  {
   "cell_type": "code",
   "execution_count": 22,
   "id": "c6d9436c-c784-4385-9237-7113d47a5be1",
   "metadata": {},
   "outputs": [],
   "source": [
    "df['Quarter'] = df['Date'].dt.quarter"
   ]
  },
  {
   "cell_type": "code",
   "execution_count": 23,
   "id": "0045cbdd-5302-4974-958b-ad2e43f8abd5",
   "metadata": {},
   "outputs": [],
   "source": [
    "df['Month'] = df['Date'].dt.month"
   ]
  },
  {
   "cell_type": "code",
   "execution_count": 24,
   "id": "81588188-4e51-46dc-bb2e-58588574614e",
   "metadata": {},
   "outputs": [],
   "source": [
    "df['Week'] = df['Date'].dt.isocalendar().week"
   ]
  },
  {
   "cell_type": "code",
   "execution_count": 25,
   "id": "ab9f8e5a-1caf-4c0b-b094-1933ddec3b12",
   "metadata": {},
   "outputs": [],
   "source": [
    "df['day'] = df['Date'].dt.day"
   ]
  },
  {
   "cell_type": "code",
   "execution_count": 26,
   "id": "fb54618b-58fc-450a-a3f7-1103e639db4c",
   "metadata": {},
   "outputs": [],
   "source": [
    "df['Season'] = np.where(df['Month'].isin([3,4,5]),'Spring',\n",
    "                       np.where(df['Month'].isin([6,7,8]),'Summer',\n",
    "                       np.where(df['Month'].isin([9,10,11]),'Fall',\n",
    "                       np.where(df['Month'].isin([12,1,2]),'Winter','None'))))"
   ]
  },
  {
   "cell_type": "code",
   "execution_count": 27,
   "id": "d92a9887-038a-47be-a212-912193d50e26",
   "metadata": {},
   "outputs": [
    {
     "data": {
      "text/html": [
       "<div>\n",
       "<style scoped>\n",
       "    .dataframe tbody tr th:only-of-type {\n",
       "        vertical-align: middle;\n",
       "    }\n",
       "\n",
       "    .dataframe tbody tr th {\n",
       "        vertical-align: top;\n",
       "    }\n",
       "\n",
       "    .dataframe thead th {\n",
       "        text-align: right;\n",
       "    }\n",
       "</style>\n",
       "<table border=\"1\" class=\"dataframe\">\n",
       "  <thead>\n",
       "    <tr style=\"text-align: right;\">\n",
       "      <th></th>\n",
       "      <th>Season1</th>\n",
       "    </tr>\n",
       "  </thead>\n",
       "  <tbody>\n",
       "    <tr>\n",
       "      <th>0</th>\n",
       "      <td>Summer</td>\n",
       "    </tr>\n",
       "    <tr>\n",
       "      <th>1</th>\n",
       "      <td>Summer</td>\n",
       "    </tr>\n",
       "    <tr>\n",
       "      <th>2</th>\n",
       "      <td>Summer</td>\n",
       "    </tr>\n",
       "    <tr>\n",
       "      <th>3</th>\n",
       "      <td>Summer</td>\n",
       "    </tr>\n",
       "    <tr>\n",
       "      <th>4</th>\n",
       "      <td>Summer</td>\n",
       "    </tr>\n",
       "  </tbody>\n",
       "</table>\n",
       "</div>"
      ],
      "text/plain": [
       "  Season1\n",
       "0  Summer\n",
       "1  Summer\n",
       "2  Summer\n",
       "3  Summer\n",
       "4  Summer"
      ]
     },
     "execution_count": 27,
     "metadata": {},
     "output_type": "execute_result"
    }
   ],
   "source": [
    "season_map = {\n",
    "    3: 'Spring', 4: 'Spring', 5: 'Spring',\n",
    "    6: 'Summer', 7: 'Summer', 8: 'Summer',\n",
    "    9: 'Fall', 10: 'Fall', 11: 'Fall',\n",
    "    12: 'Winter', 1: 'Winter', 2: 'Winter'\n",
    "}\n",
    "df['Season1'] = df['Month'].map(season_map).fillna('None')\n",
    "df[['Season1']].head()"
   ]
  },
  {
   "cell_type": "code",
   "execution_count": 28,
   "id": "5731fdf9-0c16-4c65-a230-47e9aac02128",
   "metadata": {},
   "outputs": [],
   "source": [
    "del df['Season1']"
   ]
  },
  {
   "cell_type": "code",
   "execution_count": 29,
   "id": "0e508d56-b043-4a66-94f8-636c8b767beb",
   "metadata": {},
   "outputs": [
    {
     "data": {
      "text/html": [
       "<div>\n",
       "<style scoped>\n",
       "    .dataframe tbody tr th:only-of-type {\n",
       "        vertical-align: middle;\n",
       "    }\n",
       "\n",
       "    .dataframe tbody tr th {\n",
       "        vertical-align: top;\n",
       "    }\n",
       "\n",
       "    .dataframe thead th {\n",
       "        text-align: right;\n",
       "    }\n",
       "</style>\n",
       "<table border=\"1\" class=\"dataframe\">\n",
       "  <thead>\n",
       "    <tr style=\"text-align: right;\">\n",
       "      <th></th>\n",
       "      <th>Year</th>\n",
       "      <th>Quarter</th>\n",
       "      <th>Month</th>\n",
       "      <th>Week</th>\n",
       "      <th>day</th>\n",
       "      <th>Season</th>\n",
       "    </tr>\n",
       "  </thead>\n",
       "  <tbody>\n",
       "    <tr>\n",
       "      <th>0</th>\n",
       "      <td>2015</td>\n",
       "      <td>3</td>\n",
       "      <td>7</td>\n",
       "      <td>31</td>\n",
       "      <td>31</td>\n",
       "      <td>Summer</td>\n",
       "    </tr>\n",
       "    <tr>\n",
       "      <th>1</th>\n",
       "      <td>2015</td>\n",
       "      <td>3</td>\n",
       "      <td>7</td>\n",
       "      <td>31</td>\n",
       "      <td>30</td>\n",
       "      <td>Summer</td>\n",
       "    </tr>\n",
       "    <tr>\n",
       "      <th>2</th>\n",
       "      <td>2015</td>\n",
       "      <td>3</td>\n",
       "      <td>7</td>\n",
       "      <td>31</td>\n",
       "      <td>29</td>\n",
       "      <td>Summer</td>\n",
       "    </tr>\n",
       "    <tr>\n",
       "      <th>3</th>\n",
       "      <td>2015</td>\n",
       "      <td>3</td>\n",
       "      <td>7</td>\n",
       "      <td>31</td>\n",
       "      <td>28</td>\n",
       "      <td>Summer</td>\n",
       "    </tr>\n",
       "    <tr>\n",
       "      <th>4</th>\n",
       "      <td>2015</td>\n",
       "      <td>3</td>\n",
       "      <td>7</td>\n",
       "      <td>31</td>\n",
       "      <td>27</td>\n",
       "      <td>Summer</td>\n",
       "    </tr>\n",
       "    <tr>\n",
       "      <th>...</th>\n",
       "      <td>...</td>\n",
       "      <td>...</td>\n",
       "      <td>...</td>\n",
       "      <td>...</td>\n",
       "      <td>...</td>\n",
       "      <td>...</td>\n",
       "    </tr>\n",
       "    <tr>\n",
       "      <th>1017204</th>\n",
       "      <td>2013</td>\n",
       "      <td>1</td>\n",
       "      <td>1</td>\n",
       "      <td>1</td>\n",
       "      <td>5</td>\n",
       "      <td>Winter</td>\n",
       "    </tr>\n",
       "    <tr>\n",
       "      <th>1017205</th>\n",
       "      <td>2013</td>\n",
       "      <td>1</td>\n",
       "      <td>1</td>\n",
       "      <td>1</td>\n",
       "      <td>4</td>\n",
       "      <td>Winter</td>\n",
       "    </tr>\n",
       "    <tr>\n",
       "      <th>1017206</th>\n",
       "      <td>2013</td>\n",
       "      <td>1</td>\n",
       "      <td>1</td>\n",
       "      <td>1</td>\n",
       "      <td>3</td>\n",
       "      <td>Winter</td>\n",
       "    </tr>\n",
       "    <tr>\n",
       "      <th>1017207</th>\n",
       "      <td>2013</td>\n",
       "      <td>1</td>\n",
       "      <td>1</td>\n",
       "      <td>1</td>\n",
       "      <td>2</td>\n",
       "      <td>Winter</td>\n",
       "    </tr>\n",
       "    <tr>\n",
       "      <th>1017208</th>\n",
       "      <td>2013</td>\n",
       "      <td>1</td>\n",
       "      <td>1</td>\n",
       "      <td>1</td>\n",
       "      <td>1</td>\n",
       "      <td>Winter</td>\n",
       "    </tr>\n",
       "  </tbody>\n",
       "</table>\n",
       "<p>1017209 rows × 6 columns</p>\n",
       "</div>"
      ],
      "text/plain": [
       "         Year  Quarter  Month  Week  day  Season\n",
       "0        2015        3      7    31   31  Summer\n",
       "1        2015        3      7    31   30  Summer\n",
       "2        2015        3      7    31   29  Summer\n",
       "3        2015        3      7    31   28  Summer\n",
       "4        2015        3      7    31   27  Summer\n",
       "...       ...      ...    ...   ...  ...     ...\n",
       "1017204  2013        1      1     1    5  Winter\n",
       "1017205  2013        1      1     1    4  Winter\n",
       "1017206  2013        1      1     1    3  Winter\n",
       "1017207  2013        1      1     1    2  Winter\n",
       "1017208  2013        1      1     1    1  Winter\n",
       "\n",
       "[1017209 rows x 6 columns]"
      ]
     },
     "execution_count": 29,
     "metadata": {},
     "output_type": "execute_result"
    }
   ],
   "source": [
    "df.iloc[:,18:]"
   ]
  },
  {
   "cell_type": "code",
   "execution_count": 30,
   "id": "3d27167b-c6d0-441d-9e53-0a773e39a0b5",
   "metadata": {},
   "outputs": [
    {
     "data": {
      "text/plain": [
       "52"
      ]
     },
     "execution_count": 30,
     "metadata": {},
     "output_type": "execute_result"
    }
   ],
   "source": [
    "df['Week'].max()"
   ]
  },
  {
   "cell_type": "code",
   "execution_count": 31,
   "id": "7e6aba0c-eebe-4f67-ad6c-8a90d3131958",
   "metadata": {},
   "outputs": [
    {
     "data": {
      "image/png": "[encoded data removed]",
      "text/plain": [
       "<Figure size 1500x800 with 1 Axes>"
      ]
     },
     "metadata": {},
     "output_type": "display_data"
    }
   ],
   "source": [
    "plt.figure(figsize=(15,8))\n",
    "plt.xlabel('Sales')\n",
    "plt.ylabel('Count')\n",
    "plt.title('Distribution of Sales')\n",
    "plt.hist(df['Sales'])\n",
    "plt.show()"
   ]
  },
  {
   "cell_type": "code",
   "execution_count": 32,
   "id": "2219d368-a62b-4642-a60f-dc8a6ae41293",
   "metadata": {},
   "outputs": [
    {
     "data": {
      "image/png": "[encoded data removed]",
      "text/plain": [
       "<Figure size 2000x2000 with 20 Axes>"
      ]
     },
     "metadata": {},
     "output_type": "display_data"
    }
   ],
   "source": [
    "df.hist(figsize=(20,20));"
   ]
  },
  {
   "cell_type": "code",
   "execution_count": 33,
   "id": "07b86b3c-231e-4717-95eb-73e3a9bf38ba",
   "metadata": {},
   "outputs": [
    {
     "data": {
      "text/plain": [
       "Store                         0.000000\n",
       "StoreType                     0.000000\n",
       "Assortment                    0.000000\n",
       "CompetitionDistance           0.259730\n",
       "CompetitionOpenSinceMonth    31.787764\n",
       "CompetitionOpenSinceYear     31.787764\n",
       "Promo2                        0.000000\n",
       "Promo2SinceWeek              49.943620\n",
       "Promo2SinceYear              49.943620\n",
       "PromoInterval                49.943620\n",
       "DayOfWeek                     0.000000\n",
       "Date                          0.000000\n",
       "Sales                         0.000000\n",
       "Customers                     0.000000\n",
       "Open                          0.000000\n",
       "Promo                         0.000000\n",
       "StateHoliday                  0.000000\n",
       "SchoolHoliday                 0.000000\n",
       "Year                          0.000000\n",
       "Quarter                       0.000000\n",
       "Month                         0.000000\n",
       "Week                          0.000000\n",
       "day                           0.000000\n",
       "Season                        0.000000\n",
       "dtype: float64"
      ]
     },
     "execution_count": 33,
     "metadata": {},
     "output_type": "execute_result"
    }
   ],
   "source": [
    "df.isnull().sum() / df.shape[0] * 100"
   ]
  },
  {
   "cell_type": "code",
   "execution_count": 34,
   "id": "c96ac36b-fbf9-44d8-9cf4-d158b469574d",
   "metadata": {},
   "outputs": [
    {
     "data": {
      "text/plain": [
       "<Axes: ylabel='CompetitionDistance'>"
      ]
     },
     "execution_count": 34,
     "metadata": {},
     "output_type": "execute_result"
    },
    {
     "data": {
      "image/png": "[encoded data removed]",
      "text/plain": [
       "<Figure size 640x480 with 1 Axes>"
      ]
     },
     "metadata": {},
     "output_type": "display_data"
    }
   ],
   "source": [
    "sns.boxplot(df['CompetitionDistance'])"
   ]
  },
  {
   "cell_type": "code",
   "execution_count": 35,
   "id": "f95fdbd2-7bc3-4ba5-a3e7-b7107a5e7e89",
   "metadata": {},
   "outputs": [],
   "source": [
    "df['CompetitionDistance'] = df['CompetitionDistance'].replace(np.NaN,df['CompetitionDistance'].mode()[0])"
   ]
  },
  {
   "cell_type": "code",
   "execution_count": 36,
   "id": "4341ebe1-aacb-4827-ab8c-6bdb426f8821",
   "metadata": {},
   "outputs": [],
   "source": [
    "# df[\"CompetitionDistance\"]=df[\"CompetitionDistance\"].fillna(df[\"CompetitionDistance\"].mode()[0])"
   ]
  },
  {
   "cell_type": "code",
   "execution_count": 37,
   "id": "8ade97e1-7c45-478e-bf4b-9bba59bf0072",
   "metadata": {},
   "outputs": [
    {
     "data": {
      "text/plain": [
       "0.0"
      ]
     },
     "execution_count": 37,
     "metadata": {},
     "output_type": "execute_result"
    }
   ],
   "source": [
    "df['CompetitionDistance'].isnull().sum() / df.shape[0] * 100"
   ]
  },
  {
   "cell_type": "code",
   "execution_count": 38,
   "id": "5db70fba-44f7-4396-a658-716b9f7f1b02",
   "metadata": {},
   "outputs": [
    {
     "data": {
      "text/plain": [
       "<Axes: xlabel='Season', ylabel='Sales'>"
      ]
     },
     "execution_count": 38,
     "metadata": {},
     "output_type": "execute_result"
    },
    {
     "data": {
      "image/png": "[encoded data removed]",
      "text/plain": [
       "<Figure size 640x480 with 1 Axes>"
      ]
     },
     "metadata": {},
     "output_type": "display_data"
    }
   ],
   "source": [
    "sns.set(style='whitegrid')\n",
    "sns.barplot(df,x='Season',y='Sales',palette='deep')"
   ]
  },
  {
   "cell_type": "code",
   "execution_count": 39,
   "id": "b3db9ca0-a7ee-41ed-b93e-07ea94a68190",
   "metadata": {},
   "outputs": [
    {
     "data": {
      "text/plain": [
       "<Axes: xlabel='Assortment', ylabel='Sales'>"
      ]
     },
     "execution_count": 39,
     "metadata": {},
     "output_type": "execute_result"
    },
    {
     "data": {
      "image/png": "[encoded data removed]",
      "text/plain": [
       "<Figure size 640x480 with 1 Axes>"
      ]
     },
     "metadata": {},
     "output_type": "display_data"
    }
   ],
   "source": [
    "sns.barplot(df,x='Assortment',y='Sales',palette='Accent')"
   ]
  },
  {
   "cell_type": "code",
   "execution_count": 40,
   "id": "7058319e-287c-4e0e-a9e2-fd8941050747",
   "metadata": {},
   "outputs": [
    {
     "data": {
      "text/plain": [
       "<Axes: xlabel='StoreType', ylabel='Sales'>"
      ]
     },
     "execution_count": 40,
     "metadata": {},
     "output_type": "execute_result"
    },
    {
     "data": {
      "image/png": "[encoded data removed]",
      "text/plain": [
       "<Figure size 640x480 with 1 Axes>"
      ]
     },
     "metadata": {},
     "output_type": "display_data"
    }
   ],
   "source": [
    "sns.barplot(df,x='StoreType',y='Sales',palette='pastel')"
   ]
  },
  {
   "cell_type": "code",
   "execution_count": 41,
   "id": "d60472a7-bd0c-4809-8ac5-989d7af8b708",
   "metadata": {},
   "outputs": [
    {
     "data": {
      "text/plain": [
       "<Axes: xlabel='Season', ylabel='Sales'>"
      ]
     },
     "execution_count": 41,
     "metadata": {},
     "output_type": "execute_result"
    },
    {
     "data": {
      "image/png": "[encoded data removed]",
      "text/plain": [
       "<Figure size 640x480 with 1 Axes>"
      ]
     },
     "metadata": {},
     "output_type": "display_data"
    }
   ],
   "source": [
    "sns.barplot(df,x='Season',y='Sales',estimator=np.size,palette='BrBG')"
   ]
  },
  {
   "cell_type": "code",
   "execution_count": 42,
   "id": "909bfea2-dd63-4098-b627-c0748f23f2db",
   "metadata": {},
   "outputs": [
    {
     "data": {
      "text/plain": [
       "<Axes: xlabel='Season', ylabel='Sales'>"
      ]
     },
     "execution_count": 42,
     "metadata": {},
     "output_type": "execute_result"
    },
    {
     "data": {
      "image/png": "[encoded data removed]",
      "text/plain": [
       "<Figure size 640x480 with 1 Axes>"
      ]
     },
     "metadata": {},
     "output_type": "display_data"
    }
   ],
   "source": [
    "sns.barplot(df,x='Season',y='Sales',estimator='sum',palette='BrBG')"
   ]
  },
  {
   "cell_type": "code",
   "execution_count": 43,
   "id": "f6eb01c4-140b-41a8-8d7e-9040c756963b",
   "metadata": {},
   "outputs": [
    {
     "data": {
      "text/plain": [
       "<Axes: xlabel='StoreType', ylabel='Sales'>"
      ]
     },
     "execution_count": 43,
     "metadata": {},
     "output_type": "execute_result"
    },
    {
     "data": {
      "image/png": "[encoded data removed]",
      "text/plain": [
       "<Figure size 640x480 with 1 Axes>"
      ]
     },
     "metadata": {},
     "output_type": "display_data"
    }
   ],
   "source": [
    "sns.barplot(df,x='StoreType',y='Sales',palette='deep',estimator=np.size)"
   ]
  },
  {
   "cell_type": "code",
   "execution_count": 44,
   "id": "bbb16a7a-24bc-4f8c-8815-9c82ce99498f",
   "metadata": {},
   "outputs": [
    {
     "data": {
      "text/html": [
       "<div>\n",
       "<style scoped>\n",
       "    .dataframe tbody tr th:only-of-type {\n",
       "        vertical-align: middle;\n",
       "    }\n",
       "\n",
       "    .dataframe tbody tr th {\n",
       "        vertical-align: top;\n",
       "    }\n",
       "\n",
       "    .dataframe thead th {\n",
       "        text-align: right;\n",
       "    }\n",
       "</style>\n",
       "<table border=\"1\" class=\"dataframe\">\n",
       "  <thead>\n",
       "    <tr style=\"text-align: right;\">\n",
       "      <th></th>\n",
       "      <th>Store</th>\n",
       "      <th>StoreType</th>\n",
       "      <th>Assortment</th>\n",
       "      <th>CompetitionDistance</th>\n",
       "      <th>CompetitionOpenSinceMonth</th>\n",
       "      <th>CompetitionOpenSinceYear</th>\n",
       "      <th>Promo2</th>\n",
       "      <th>Promo2SinceWeek</th>\n",
       "      <th>Promo2SinceYear</th>\n",
       "      <th>PromoInterval</th>\n",
       "      <th>DayOfWeek</th>\n",
       "      <th>Date</th>\n",
       "      <th>Sales</th>\n",
       "      <th>Customers</th>\n",
       "      <th>Open</th>\n",
       "      <th>Promo</th>\n",
       "      <th>StateHoliday</th>\n",
       "      <th>SchoolHoliday</th>\n",
       "      <th>Year</th>\n",
       "      <th>Quarter</th>\n",
       "      <th>Month</th>\n",
       "      <th>Week</th>\n",
       "      <th>day</th>\n",
       "      <th>Season</th>\n",
       "    </tr>\n",
       "  </thead>\n",
       "  <tbody>\n",
       "    <tr>\n",
       "      <th>0</th>\n",
       "      <td>1</td>\n",
       "      <td>c</td>\n",
       "      <td>a</td>\n",
       "      <td>1270.0</td>\n",
       "      <td>9.0</td>\n",
       "      <td>2008.0</td>\n",
       "      <td>0</td>\n",
       "      <td>NaN</td>\n",
       "      <td>NaN</td>\n",
       "      <td>NaN</td>\n",
       "      <td>5</td>\n",
       "      <td>2015-07-31</td>\n",
       "      <td>5263</td>\n",
       "      <td>555</td>\n",
       "      <td>1</td>\n",
       "      <td>1</td>\n",
       "      <td>0</td>\n",
       "      <td>1</td>\n",
       "      <td>2015</td>\n",
       "      <td>3</td>\n",
       "      <td>7</td>\n",
       "      <td>31</td>\n",
       "      <td>31</td>\n",
       "      <td>Summer</td>\n",
       "    </tr>\n",
       "    <tr>\n",
       "      <th>1</th>\n",
       "      <td>1</td>\n",
       "      <td>c</td>\n",
       "      <td>a</td>\n",
       "      <td>1270.0</td>\n",
       "      <td>9.0</td>\n",
       "      <td>2008.0</td>\n",
       "      <td>0</td>\n",
       "      <td>NaN</td>\n",
       "      <td>NaN</td>\n",
       "      <td>NaN</td>\n",
       "      <td>4</td>\n",
       "      <td>2015-07-30</td>\n",
       "      <td>5020</td>\n",
       "      <td>546</td>\n",
       "      <td>1</td>\n",
       "      <td>1</td>\n",
       "      <td>0</td>\n",
       "      <td>1</td>\n",
       "      <td>2015</td>\n",
       "      <td>3</td>\n",
       "      <td>7</td>\n",
       "      <td>31</td>\n",
       "      <td>30</td>\n",
       "      <td>Summer</td>\n",
       "    </tr>\n",
       "    <tr>\n",
       "      <th>2</th>\n",
       "      <td>1</td>\n",
       "      <td>c</td>\n",
       "      <td>a</td>\n",
       "      <td>1270.0</td>\n",
       "      <td>9.0</td>\n",
       "      <td>2008.0</td>\n",
       "      <td>0</td>\n",
       "      <td>NaN</td>\n",
       "      <td>NaN</td>\n",
       "      <td>NaN</td>\n",
       "      <td>3</td>\n",
       "      <td>2015-07-29</td>\n",
       "      <td>4782</td>\n",
       "      <td>523</td>\n",
       "      <td>1</td>\n",
       "      <td>1</td>\n",
       "      <td>0</td>\n",
       "      <td>1</td>\n",
       "      <td>2015</td>\n",
       "      <td>3</td>\n",
       "      <td>7</td>\n",
       "      <td>31</td>\n",
       "      <td>29</td>\n",
       "      <td>Summer</td>\n",
       "    </tr>\n",
       "    <tr>\n",
       "      <th>3</th>\n",
       "      <td>1</td>\n",
       "      <td>c</td>\n",
       "      <td>a</td>\n",
       "      <td>1270.0</td>\n",
       "      <td>9.0</td>\n",
       "      <td>2008.0</td>\n",
       "      <td>0</td>\n",
       "      <td>NaN</td>\n",
       "      <td>NaN</td>\n",
       "      <td>NaN</td>\n",
       "      <td>2</td>\n",
       "      <td>2015-07-28</td>\n",
       "      <td>5011</td>\n",
       "      <td>560</td>\n",
       "      <td>1</td>\n",
       "      <td>1</td>\n",
       "      <td>0</td>\n",
       "      <td>1</td>\n",
       "      <td>2015</td>\n",
       "      <td>3</td>\n",
       "      <td>7</td>\n",
       "      <td>31</td>\n",
       "      <td>28</td>\n",
       "      <td>Summer</td>\n",
       "    </tr>\n",
       "    <tr>\n",
       "      <th>4</th>\n",
       "      <td>1</td>\n",
       "      <td>c</td>\n",
       "      <td>a</td>\n",
       "      <td>1270.0</td>\n",
       "      <td>9.0</td>\n",
       "      <td>2008.0</td>\n",
       "      <td>0</td>\n",
       "      <td>NaN</td>\n",
       "      <td>NaN</td>\n",
       "      <td>NaN</td>\n",
       "      <td>1</td>\n",
       "      <td>2015-07-27</td>\n",
       "      <td>6102</td>\n",
       "      <td>612</td>\n",
       "      <td>1</td>\n",
       "      <td>1</td>\n",
       "      <td>0</td>\n",
       "      <td>1</td>\n",
       "      <td>2015</td>\n",
       "      <td>3</td>\n",
       "      <td>7</td>\n",
       "      <td>31</td>\n",
       "      <td>27</td>\n",
       "      <td>Summer</td>\n",
       "    </tr>\n",
       "  </tbody>\n",
       "</table>\n",
       "</div>"
      ],
      "text/plain": [
       "   Store StoreType Assortment  CompetitionDistance  CompetitionOpenSinceMonth  ...  Quarter  Month  Week  day  Season\n",
       "0      1         c          a               1270.0                        9.0  ...        3      7    31   31  Summer\n",
       "1      1         c          a               1270.0                        9.0  ...        3      7    31   30  Summer\n",
       "2      1         c          a               1270.0                        9.0  ...        3      7    31   29  Summer\n",
       "3      1         c          a               1270.0                        9.0  ...        3      7    31   28  Summer\n",
       "4      1         c          a               1270.0                        9.0  ...        3      7    31   27  Summer\n",
       "\n",
       "[5 rows x 24 columns]"
      ]
     },
     "execution_count": 44,
     "metadata": {},
     "output_type": "execute_result"
    }
   ],
   "source": [
    "df.head()"
   ]
  },
  {
   "cell_type": "code",
   "execution_count": 45,
   "id": "67f935ea-b715-4595-a0c7-0a4a6659a83d",
   "metadata": {},
   "outputs": [
    {
     "data": {
      "text/plain": [
       "Store                                 int64\n",
       "StoreType                            object\n",
       "Assortment                           object\n",
       "CompetitionDistance                 float64\n",
       "CompetitionOpenSinceMonth           float64\n",
       "CompetitionOpenSinceYear            float64\n",
       "Promo2                                int64\n",
       "Promo2SinceWeek                     float64\n",
       "Promo2SinceYear                     float64\n",
       "PromoInterval                        object\n",
       "DayOfWeek                             int64\n",
       "Date                         datetime64[ns]\n",
       "Sales                                 int64\n",
       "Customers                             int64\n",
       "Open                                  int64\n",
       "Promo                                 int64\n",
       "StateHoliday                         object\n",
       "SchoolHoliday                         int64\n",
       "Year                                  int32\n",
       "Quarter                               int32\n",
       "Month                                 int32\n",
       "Week                                 UInt32\n",
       "day                                   int32\n",
       "Season                               object\n",
       "dtype: object"
      ]
     },
     "execution_count": 45,
     "metadata": {},
     "output_type": "execute_result"
    }
   ],
   "source": [
    "df.dtypes"
   ]
  },
  {
   "cell_type": "code",
   "execution_count": 46,
   "id": "56f8dcd3-6933-49c3-af8c-c0f718f50c51",
   "metadata": {},
   "outputs": [],
   "source": [
    "from sklearn.preprocessing import OneHotEncoder,LabelEncoder"
   ]
  },
  {
   "cell_type": "code",
   "execution_count": 47,
   "id": "9f24cf40-0790-4a45-8088-445dd419db8d",
   "metadata": {},
   "outputs": [],
   "source": [
    "cat_col = [\"DayOfWeek\",\"Quarter\",\"Month\",\"Year\", \"StoreType\",\"Assortment\",\"Season\"]"
   ]
  },
  {
   "cell_type": "code",
   "execution_count": 48,
   "id": "d8b55aa9-5058-4694-8601-34fe8f0877ac",
   "metadata": {},
   "outputs": [],
   "source": [
    "num_col = [\"Customers\",\"Open\",\"Promo\",\"Promo2\",\"StateHoliday\",\"SchoolHoliday\",\"CompetitionDistance\"]"
   ]
  },
  {
   "cell_type": "code",
   "execution_count": 49,
   "id": "b02f6e61-7bcc-46d2-802f-e90884dede9d",
   "metadata": {},
   "outputs": [],
   "source": [
    "for x in cat_col:\n",
    "    temp = pd.get_dummies(df[x])"
   ]
  },
  {
   "cell_type": "code",
   "execution_count": 50,
   "id": "62e74245-17be-4437-8e12-e9e5b070d865",
   "metadata": {},
   "outputs": [],
   "source": [
    "temp = pd.get_dummies(df[cat_col],columns=cat_col,dtype=int)"
   ]
  },
  {
   "cell_type": "code",
   "execution_count": 51,
   "id": "0e6e4291-f2c5-457a-9b55-dd1515e84434",
   "metadata": {},
   "outputs": [
    {
     "data": {
      "text/html": [
       "<div>\n",
       "<style scoped>\n",
       "    .dataframe tbody tr th:only-of-type {\n",
       "        vertical-align: middle;\n",
       "    }\n",
       "\n",
       "    .dataframe tbody tr th {\n",
       "        vertical-align: top;\n",
       "    }\n",
       "\n",
       "    .dataframe thead th {\n",
       "        text-align: right;\n",
       "    }\n",
       "</style>\n",
       "<table border=\"1\" class=\"dataframe\">\n",
       "  <thead>\n",
       "    <tr style=\"text-align: right;\">\n",
       "      <th></th>\n",
       "      <th>DayOfWeek_1</th>\n",
       "      <th>DayOfWeek_2</th>\n",
       "      <th>DayOfWeek_3</th>\n",
       "      <th>DayOfWeek_4</th>\n",
       "      <th>DayOfWeek_5</th>\n",
       "      <th>DayOfWeek_6</th>\n",
       "      <th>DayOfWeek_7</th>\n",
       "      <th>Quarter_1</th>\n",
       "      <th>Quarter_2</th>\n",
       "      <th>Quarter_3</th>\n",
       "      <th>Quarter_4</th>\n",
       "      <th>Month_1</th>\n",
       "      <th>Month_2</th>\n",
       "      <th>Month_3</th>\n",
       "      <th>Month_4</th>\n",
       "      <th>Month_5</th>\n",
       "      <th>Month_6</th>\n",
       "      <th>Month_7</th>\n",
       "      <th>Month_8</th>\n",
       "      <th>Month_9</th>\n",
       "      <th>Month_10</th>\n",
       "      <th>Month_11</th>\n",
       "      <th>Month_12</th>\n",
       "      <th>Year_2013</th>\n",
       "      <th>Year_2014</th>\n",
       "      <th>Year_2015</th>\n",
       "      <th>StoreType_a</th>\n",
       "      <th>StoreType_b</th>\n",
       "      <th>StoreType_c</th>\n",
       "      <th>StoreType_d</th>\n",
       "      <th>Assortment_a</th>\n",
       "      <th>Assortment_b</th>\n",
       "      <th>Assortment_c</th>\n",
       "      <th>Season_Fall</th>\n",
       "      <th>Season_Spring</th>\n",
       "      <th>Season_Summer</th>\n",
       "      <th>Season_Winter</th>\n",
       "    </tr>\n",
       "  </thead>\n",
       "  <tbody>\n",
       "    <tr>\n",
       "      <th>0</th>\n",
       "      <td>0</td>\n",
       "      <td>0</td>\n",
       "      <td>0</td>\n",
       "      <td>0</td>\n",
       "      <td>1</td>\n",
       "      <td>0</td>\n",
       "      <td>0</td>\n",
       "      <td>0</td>\n",
       "      <td>0</td>\n",
       "      <td>1</td>\n",
       "      <td>0</td>\n",
       "      <td>0</td>\n",
       "      <td>0</td>\n",
       "      <td>0</td>\n",
       "      <td>0</td>\n",
       "      <td>0</td>\n",
       "      <td>0</td>\n",
       "      <td>1</td>\n",
       "      <td>0</td>\n",
       "      <td>0</td>\n",
       "      <td>0</td>\n",
       "      <td>0</td>\n",
       "      <td>0</td>\n",
       "      <td>0</td>\n",
       "      <td>0</td>\n",
       "      <td>1</td>\n",
       "      <td>0</td>\n",
       "      <td>0</td>\n",
       "      <td>1</td>\n",
       "      <td>0</td>\n",
       "      <td>1</td>\n",
       "      <td>0</td>\n",
       "      <td>0</td>\n",
       "      <td>0</td>\n",
       "      <td>0</td>\n",
       "      <td>1</td>\n",
       "      <td>0</td>\n",
       "    </tr>\n",
       "    <tr>\n",
       "      <th>1</th>\n",
       "      <td>0</td>\n",
       "      <td>0</td>\n",
       "      <td>0</td>\n",
       "      <td>1</td>\n",
       "      <td>0</td>\n",
       "      <td>0</td>\n",
       "      <td>0</td>\n",
       "      <td>0</td>\n",
       "      <td>0</td>\n",
       "      <td>1</td>\n",
       "      <td>0</td>\n",
       "      <td>0</td>\n",
       "      <td>0</td>\n",
       "      <td>0</td>\n",
       "      <td>0</td>\n",
       "      <td>0</td>\n",
       "      <td>0</td>\n",
       "      <td>1</td>\n",
       "      <td>0</td>\n",
       "      <td>0</td>\n",
       "      <td>0</td>\n",
       "      <td>0</td>\n",
       "      <td>0</td>\n",
       "      <td>0</td>\n",
       "      <td>0</td>\n",
       "      <td>1</td>\n",
       "      <td>0</td>\n",
       "      <td>0</td>\n",
       "      <td>1</td>\n",
       "      <td>0</td>\n",
       "      <td>1</td>\n",
       "      <td>0</td>\n",
       "      <td>0</td>\n",
       "      <td>0</td>\n",
       "      <td>0</td>\n",
       "      <td>1</td>\n",
       "      <td>0</td>\n",
       "    </tr>\n",
       "    <tr>\n",
       "      <th>2</th>\n",
       "      <td>0</td>\n",
       "      <td>0</td>\n",
       "      <td>1</td>\n",
       "      <td>0</td>\n",
       "      <td>0</td>\n",
       "      <td>0</td>\n",
       "      <td>0</td>\n",
       "      <td>0</td>\n",
       "      <td>0</td>\n",
       "      <td>1</td>\n",
       "      <td>0</td>\n",
       "      <td>0</td>\n",
       "      <td>0</td>\n",
       "      <td>0</td>\n",
       "      <td>0</td>\n",
       "      <td>0</td>\n",
       "      <td>0</td>\n",
       "      <td>1</td>\n",
       "      <td>0</td>\n",
       "      <td>0</td>\n",
       "      <td>0</td>\n",
       "      <td>0</td>\n",
       "      <td>0</td>\n",
       "      <td>0</td>\n",
       "      <td>0</td>\n",
       "      <td>1</td>\n",
       "      <td>0</td>\n",
       "      <td>0</td>\n",
       "      <td>1</td>\n",
       "      <td>0</td>\n",
       "      <td>1</td>\n",
       "      <td>0</td>\n",
       "      <td>0</td>\n",
       "      <td>0</td>\n",
       "      <td>0</td>\n",
       "      <td>1</td>\n",
       "      <td>0</td>\n",
       "    </tr>\n",
       "    <tr>\n",
       "      <th>3</th>\n",
       "      <td>0</td>\n",
       "      <td>1</td>\n",
       "      <td>0</td>\n",
       "      <td>0</td>\n",
       "      <td>0</td>\n",
       "      <td>0</td>\n",
       "      <td>0</td>\n",
       "      <td>0</td>\n",
       "      <td>0</td>\n",
       "      <td>1</td>\n",
       "      <td>0</td>\n",
       "      <td>0</td>\n",
       "      <td>0</td>\n",
       "      <td>0</td>\n",
       "      <td>0</td>\n",
       "      <td>0</td>\n",
       "      <td>0</td>\n",
       "      <td>1</td>\n",
       "      <td>0</td>\n",
       "      <td>0</td>\n",
       "      <td>0</td>\n",
       "      <td>0</td>\n",
       "      <td>0</td>\n",
       "      <td>0</td>\n",
       "      <td>0</td>\n",
       "      <td>1</td>\n",
       "      <td>0</td>\n",
       "      <td>0</td>\n",
       "      <td>1</td>\n",
       "      <td>0</td>\n",
       "      <td>1</td>\n",
       "      <td>0</td>\n",
       "      <td>0</td>\n",
       "      <td>0</td>\n",
       "      <td>0</td>\n",
       "      <td>1</td>\n",
       "      <td>0</td>\n",
       "    </tr>\n",
       "    <tr>\n",
       "      <th>4</th>\n",
       "      <td>1</td>\n",
       "      <td>0</td>\n",
       "      <td>0</td>\n",
       "      <td>0</td>\n",
       "      <td>0</td>\n",
       "      <td>0</td>\n",
       "      <td>0</td>\n",
       "      <td>0</td>\n",
       "      <td>0</td>\n",
       "      <td>1</td>\n",
       "      <td>0</td>\n",
       "      <td>0</td>\n",
       "      <td>0</td>\n",
       "      <td>0</td>\n",
       "      <td>0</td>\n",
       "      <td>0</td>\n",
       "      <td>0</td>\n",
       "      <td>1</td>\n",
       "      <td>0</td>\n",
       "      <td>0</td>\n",
       "      <td>0</td>\n",
       "      <td>0</td>\n",
       "      <td>0</td>\n",
       "      <td>0</td>\n",
       "      <td>0</td>\n",
       "      <td>1</td>\n",
       "      <td>0</td>\n",
       "      <td>0</td>\n",
       "      <td>1</td>\n",
       "      <td>0</td>\n",
       "      <td>1</td>\n",
       "      <td>0</td>\n",
       "      <td>0</td>\n",
       "      <td>0</td>\n",
       "      <td>0</td>\n",
       "      <td>1</td>\n",
       "      <td>0</td>\n",
       "    </tr>\n",
       "    <tr>\n",
       "      <th>...</th>\n",
       "      <td>...</td>\n",
       "      <td>...</td>\n",
       "      <td>...</td>\n",
       "      <td>...</td>\n",
       "      <td>...</td>\n",
       "      <td>...</td>\n",
       "      <td>...</td>\n",
       "      <td>...</td>\n",
       "      <td>...</td>\n",
       "      <td>...</td>\n",
       "      <td>...</td>\n",
       "      <td>...</td>\n",
       "      <td>...</td>\n",
       "      <td>...</td>\n",
       "      <td>...</td>\n",
       "      <td>...</td>\n",
       "      <td>...</td>\n",
       "      <td>...</td>\n",
       "      <td>...</td>\n",
       "      <td>...</td>\n",
       "      <td>...</td>\n",
       "      <td>...</td>\n",
       "      <td>...</td>\n",
       "      <td>...</td>\n",
       "      <td>...</td>\n",
       "      <td>...</td>\n",
       "      <td>...</td>\n",
       "      <td>...</td>\n",
       "      <td>...</td>\n",
       "      <td>...</td>\n",
       "      <td>...</td>\n",
       "      <td>...</td>\n",
       "      <td>...</td>\n",
       "      <td>...</td>\n",
       "      <td>...</td>\n",
       "      <td>...</td>\n",
       "      <td>...</td>\n",
       "    </tr>\n",
       "    <tr>\n",
       "      <th>1017204</th>\n",
       "      <td>0</td>\n",
       "      <td>0</td>\n",
       "      <td>0</td>\n",
       "      <td>0</td>\n",
       "      <td>0</td>\n",
       "      <td>1</td>\n",
       "      <td>0</td>\n",
       "      <td>1</td>\n",
       "      <td>0</td>\n",
       "      <td>0</td>\n",
       "      <td>0</td>\n",
       "      <td>1</td>\n",
       "      <td>0</td>\n",
       "      <td>0</td>\n",
       "      <td>0</td>\n",
       "      <td>0</td>\n",
       "      <td>0</td>\n",
       "      <td>0</td>\n",
       "      <td>0</td>\n",
       "      <td>0</td>\n",
       "      <td>0</td>\n",
       "      <td>0</td>\n",
       "      <td>0</td>\n",
       "      <td>1</td>\n",
       "      <td>0</td>\n",
       "      <td>0</td>\n",
       "      <td>0</td>\n",
       "      <td>0</td>\n",
       "      <td>0</td>\n",
       "      <td>1</td>\n",
       "      <td>0</td>\n",
       "      <td>0</td>\n",
       "      <td>1</td>\n",
       "      <td>0</td>\n",
       "      <td>0</td>\n",
       "      <td>0</td>\n",
       "      <td>1</td>\n",
       "    </tr>\n",
       "    <tr>\n",
       "      <th>1017205</th>\n",
       "      <td>0</td>\n",
       "      <td>0</td>\n",
       "      <td>0</td>\n",
       "      <td>0</td>\n",
       "      <td>1</td>\n",
       "      <td>0</td>\n",
       "      <td>0</td>\n",
       "      <td>1</td>\n",
       "      <td>0</td>\n",
       "      <td>0</td>\n",
       "      <td>0</td>\n",
       "      <td>1</td>\n",
       "      <td>0</td>\n",
       "      <td>0</td>\n",
       "      <td>0</td>\n",
       "      <td>0</td>\n",
       "      <td>0</td>\n",
       "      <td>0</td>\n",
       "      <td>0</td>\n",
       "      <td>0</td>\n",
       "      <td>0</td>\n",
       "      <td>0</td>\n",
       "      <td>0</td>\n",
       "      <td>1</td>\n",
       "      <td>0</td>\n",
       "      <td>0</td>\n",
       "      <td>0</td>\n",
       "      <td>0</td>\n",
       "      <td>0</td>\n",
       "      <td>1</td>\n",
       "      <td>0</td>\n",
       "      <td>0</td>\n",
       "      <td>1</td>\n",
       "      <td>0</td>\n",
       "      <td>0</td>\n",
       "      <td>0</td>\n",
       "      <td>1</td>\n",
       "    </tr>\n",
       "    <tr>\n",
       "      <th>1017206</th>\n",
       "      <td>0</td>\n",
       "      <td>0</td>\n",
       "      <td>0</td>\n",
       "      <td>1</td>\n",
       "      <td>0</td>\n",
       "      <td>0</td>\n",
       "      <td>0</td>\n",
       "      <td>1</td>\n",
       "      <td>0</td>\n",
       "      <td>0</td>\n",
       "      <td>0</td>\n",
       "      <td>1</td>\n",
       "      <td>0</td>\n",
       "      <td>0</td>\n",
       "      <td>0</td>\n",
       "      <td>0</td>\n",
       "      <td>0</td>\n",
       "      <td>0</td>\n",
       "      <td>0</td>\n",
       "      <td>0</td>\n",
       "      <td>0</td>\n",
       "      <td>0</td>\n",
       "      <td>0</td>\n",
       "      <td>1</td>\n",
       "      <td>0</td>\n",
       "      <td>0</td>\n",
       "      <td>0</td>\n",
       "      <td>0</td>\n",
       "      <td>0</td>\n",
       "      <td>1</td>\n",
       "      <td>0</td>\n",
       "      <td>0</td>\n",
       "      <td>1</td>\n",
       "      <td>0</td>\n",
       "      <td>0</td>\n",
       "      <td>0</td>\n",
       "      <td>1</td>\n",
       "    </tr>\n",
       "    <tr>\n",
       "      <th>1017207</th>\n",
       "      <td>0</td>\n",
       "      <td>0</td>\n",
       "      <td>1</td>\n",
       "      <td>0</td>\n",
       "      <td>0</td>\n",
       "      <td>0</td>\n",
       "      <td>0</td>\n",
       "      <td>1</td>\n",
       "      <td>0</td>\n",
       "      <td>0</td>\n",
       "      <td>0</td>\n",
       "      <td>1</td>\n",
       "      <td>0</td>\n",
       "      <td>0</td>\n",
       "      <td>0</td>\n",
       "      <td>0</td>\n",
       "      <td>0</td>\n",
       "      <td>0</td>\n",
       "      <td>0</td>\n",
       "      <td>0</td>\n",
       "      <td>0</td>\n",
       "      <td>0</td>\n",
       "      <td>0</td>\n",
       "      <td>1</td>\n",
       "      <td>0</td>\n",
       "      <td>0</td>\n",
       "      <td>0</td>\n",
       "      <td>0</td>\n",
       "      <td>0</td>\n",
       "      <td>1</td>\n",
       "      <td>0</td>\n",
       "      <td>0</td>\n",
       "      <td>1</td>\n",
       "      <td>0</td>\n",
       "      <td>0</td>\n",
       "      <td>0</td>\n",
       "      <td>1</td>\n",
       "    </tr>\n",
       "    <tr>\n",
       "      <th>1017208</th>\n",
       "      <td>0</td>\n",
       "      <td>1</td>\n",
       "      <td>0</td>\n",
       "      <td>0</td>\n",
       "      <td>0</td>\n",
       "      <td>0</td>\n",
       "      <td>0</td>\n",
       "      <td>1</td>\n",
       "      <td>0</td>\n",
       "      <td>0</td>\n",
       "      <td>0</td>\n",
       "      <td>1</td>\n",
       "      <td>0</td>\n",
       "      <td>0</td>\n",
       "      <td>0</td>\n",
       "      <td>0</td>\n",
       "      <td>0</td>\n",
       "      <td>0</td>\n",
       "      <td>0</td>\n",
       "      <td>0</td>\n",
       "      <td>0</td>\n",
       "      <td>0</td>\n",
       "      <td>0</td>\n",
       "      <td>1</td>\n",
       "      <td>0</td>\n",
       "      <td>0</td>\n",
       "      <td>0</td>\n",
       "      <td>0</td>\n",
       "      <td>0</td>\n",
       "      <td>1</td>\n",
       "      <td>0</td>\n",
       "      <td>0</td>\n",
       "      <td>1</td>\n",
       "      <td>0</td>\n",
       "      <td>0</td>\n",
       "      <td>0</td>\n",
       "      <td>1</td>\n",
       "    </tr>\n",
       "  </tbody>\n",
       "</table>\n",
       "<p>1017209 rows × 37 columns</p>\n",
       "</div>"
      ],
      "text/plain": [
       "         DayOfWeek_1  DayOfWeek_2  DayOfWeek_3  DayOfWeek_4  ...  Season_Fall  Season_Spring  Season_Summer  Season_Winter\n",
       "0                  0            0            0            0  ...            0              0              1              0\n",
       "1                  0            0            0            1  ...            0              0              1              0\n",
       "2                  0            0            1            0  ...            0              0              1              0\n",
       "3                  0            1            0            0  ...            0              0              1              0\n",
       "4                  1            0            0            0  ...            0              0              1              0\n",
       "...              ...          ...          ...          ...  ...          ...            ...            ...            ...\n",
       "1017204            0            0            0            0  ...            0              0              0              1\n",
       "1017205            0            0            0            0  ...            0              0              0              1\n",
       "1017206            0            0            0            1  ...            0              0              0              1\n",
       "1017207            0            0            1            0  ...            0              0              0              1\n",
       "1017208            0            1            0            0  ...            0              0              0              1\n",
       "\n",
       "[1017209 rows x 37 columns]"
      ]
     },
     "execution_count": 51,
     "metadata": {},
     "output_type": "execute_result"
    }
   ],
   "source": [
    "temp"
   ]
  },
  {
   "cell_type": "code",
   "execution_count": 52,
   "id": "9884c970-7eda-4ced-8c8b-6ce3186f7362",
   "metadata": {},
   "outputs": [
    {
     "data": {
      "text/plain": [
       "(1017209, 37)"
      ]
     },
     "execution_count": 52,
     "metadata": {},
     "output_type": "execute_result"
    }
   ],
   "source": [
    "temp.shape"
   ]
  },
  {
   "cell_type": "code",
   "execution_count": 53,
   "id": "7573be40-0c5a-4177-93c5-4355477ed556",
   "metadata": {},
   "outputs": [],
   "source": [
    "final_df = pd.concat([df[num_col],temp],axis=1)"
   ]
  },
  {
   "cell_type": "code",
   "execution_count": 54,
   "id": "5285bb8d-b9e9-47d7-9665-094de3e47252",
   "metadata": {},
   "outputs": [
    {
     "data": {
      "text/html": [
       "<div>\n",
       "<style scoped>\n",
       "    .dataframe tbody tr th:only-of-type {\n",
       "        vertical-align: middle;\n",
       "    }\n",
       "\n",
       "    .dataframe tbody tr th {\n",
       "        vertical-align: top;\n",
       "    }\n",
       "\n",
       "    .dataframe thead th {\n",
       "        text-align: right;\n",
       "    }\n",
       "</style>\n",
       "<table border=\"1\" class=\"dataframe\">\n",
       "  <thead>\n",
       "    <tr style=\"text-align: right;\">\n",
       "      <th></th>\n",
       "      <th>Customers</th>\n",
       "      <th>Open</th>\n",
       "      <th>Promo</th>\n",
       "      <th>Promo2</th>\n",
       "      <th>StateHoliday</th>\n",
       "      <th>SchoolHoliday</th>\n",
       "      <th>CompetitionDistance</th>\n",
       "      <th>DayOfWeek_1</th>\n",
       "      <th>DayOfWeek_2</th>\n",
       "      <th>DayOfWeek_3</th>\n",
       "      <th>DayOfWeek_4</th>\n",
       "      <th>DayOfWeek_5</th>\n",
       "      <th>DayOfWeek_6</th>\n",
       "      <th>DayOfWeek_7</th>\n",
       "      <th>Quarter_1</th>\n",
       "      <th>Quarter_2</th>\n",
       "      <th>Quarter_3</th>\n",
       "      <th>Quarter_4</th>\n",
       "      <th>Month_1</th>\n",
       "      <th>Month_2</th>\n",
       "      <th>Month_3</th>\n",
       "      <th>Month_4</th>\n",
       "      <th>Month_5</th>\n",
       "      <th>Month_6</th>\n",
       "      <th>Month_7</th>\n",
       "      <th>Month_8</th>\n",
       "      <th>Month_9</th>\n",
       "      <th>Month_10</th>\n",
       "      <th>Month_11</th>\n",
       "      <th>Month_12</th>\n",
       "      <th>Year_2013</th>\n",
       "      <th>Year_2014</th>\n",
       "      <th>Year_2015</th>\n",
       "      <th>StoreType_a</th>\n",
       "      <th>StoreType_b</th>\n",
       "      <th>StoreType_c</th>\n",
       "      <th>StoreType_d</th>\n",
       "      <th>Assortment_a</th>\n",
       "      <th>Assortment_b</th>\n",
       "      <th>Assortment_c</th>\n",
       "      <th>Season_Fall</th>\n",
       "      <th>Season_Spring</th>\n",
       "      <th>Season_Summer</th>\n",
       "      <th>Season_Winter</th>\n",
       "    </tr>\n",
       "  </thead>\n",
       "  <tbody>\n",
       "    <tr>\n",
       "      <th>0</th>\n",
       "      <td>555</td>\n",
       "      <td>1</td>\n",
       "      <td>1</td>\n",
       "      <td>0</td>\n",
       "      <td>0</td>\n",
       "      <td>1</td>\n",
       "      <td>1270.0</td>\n",
       "      <td>0</td>\n",
       "      <td>0</td>\n",
       "      <td>0</td>\n",
       "      <td>0</td>\n",
       "      <td>1</td>\n",
       "      <td>0</td>\n",
       "      <td>0</td>\n",
       "      <td>0</td>\n",
       "      <td>0</td>\n",
       "      <td>1</td>\n",
       "      <td>0</td>\n",
       "      <td>0</td>\n",
       "      <td>0</td>\n",
       "      <td>0</td>\n",
       "      <td>0</td>\n",
       "      <td>0</td>\n",
       "      <td>0</td>\n",
       "      <td>1</td>\n",
       "      <td>0</td>\n",
       "      <td>0</td>\n",
       "      <td>0</td>\n",
       "      <td>0</td>\n",
       "      <td>0</td>\n",
       "      <td>0</td>\n",
       "      <td>0</td>\n",
       "      <td>1</td>\n",
       "      <td>0</td>\n",
       "      <td>0</td>\n",
       "      <td>1</td>\n",
       "      <td>0</td>\n",
       "      <td>1</td>\n",
       "      <td>0</td>\n",
       "      <td>0</td>\n",
       "      <td>0</td>\n",
       "      <td>0</td>\n",
       "      <td>1</td>\n",
       "      <td>0</td>\n",
       "    </tr>\n",
       "    <tr>\n",
       "      <th>1</th>\n",
       "      <td>546</td>\n",
       "      <td>1</td>\n",
       "      <td>1</td>\n",
       "      <td>0</td>\n",
       "      <td>0</td>\n",
       "      <td>1</td>\n",
       "      <td>1270.0</td>\n",
       "      <td>0</td>\n",
       "      <td>0</td>\n",
       "      <td>0</td>\n",
       "      <td>1</td>\n",
       "      <td>0</td>\n",
       "      <td>0</td>\n",
       "      <td>0</td>\n",
       "      <td>0</td>\n",
       "      <td>0</td>\n",
       "      <td>1</td>\n",
       "      <td>0</td>\n",
       "      <td>0</td>\n",
       "      <td>0</td>\n",
       "      <td>0</td>\n",
       "      <td>0</td>\n",
       "      <td>0</td>\n",
       "      <td>0</td>\n",
       "      <td>1</td>\n",
       "      <td>0</td>\n",
       "      <td>0</td>\n",
       "      <td>0</td>\n",
       "      <td>0</td>\n",
       "      <td>0</td>\n",
       "      <td>0</td>\n",
       "      <td>0</td>\n",
       "      <td>1</td>\n",
       "      <td>0</td>\n",
       "      <td>0</td>\n",
       "      <td>1</td>\n",
       "      <td>0</td>\n",
       "      <td>1</td>\n",
       "      <td>0</td>\n",
       "      <td>0</td>\n",
       "      <td>0</td>\n",
       "      <td>0</td>\n",
       "      <td>1</td>\n",
       "      <td>0</td>\n",
       "    </tr>\n",
       "    <tr>\n",
       "      <th>2</th>\n",
       "      <td>523</td>\n",
       "      <td>1</td>\n",
       "      <td>1</td>\n",
       "      <td>0</td>\n",
       "      <td>0</td>\n",
       "      <td>1</td>\n",
       "      <td>1270.0</td>\n",
       "      <td>0</td>\n",
       "      <td>0</td>\n",
       "      <td>1</td>\n",
       "      <td>0</td>\n",
       "      <td>0</td>\n",
       "      <td>0</td>\n",
       "      <td>0</td>\n",
       "      <td>0</td>\n",
       "      <td>0</td>\n",
       "      <td>1</td>\n",
       "      <td>0</td>\n",
       "      <td>0</td>\n",
       "      <td>0</td>\n",
       "      <td>0</td>\n",
       "      <td>0</td>\n",
       "      <td>0</td>\n",
       "      <td>0</td>\n",
       "      <td>1</td>\n",
       "      <td>0</td>\n",
       "      <td>0</td>\n",
       "      <td>0</td>\n",
       "      <td>0</td>\n",
       "      <td>0</td>\n",
       "      <td>0</td>\n",
       "      <td>0</td>\n",
       "      <td>1</td>\n",
       "      <td>0</td>\n",
       "      <td>0</td>\n",
       "      <td>1</td>\n",
       "      <td>0</td>\n",
       "      <td>1</td>\n",
       "      <td>0</td>\n",
       "      <td>0</td>\n",
       "      <td>0</td>\n",
       "      <td>0</td>\n",
       "      <td>1</td>\n",
       "      <td>0</td>\n",
       "    </tr>\n",
       "    <tr>\n",
       "      <th>3</th>\n",
       "      <td>560</td>\n",
       "      <td>1</td>\n",
       "      <td>1</td>\n",
       "      <td>0</td>\n",
       "      <td>0</td>\n",
       "      <td>1</td>\n",
       "      <td>1270.0</td>\n",
       "      <td>0</td>\n",
       "      <td>1</td>\n",
       "      <td>0</td>\n",
       "      <td>0</td>\n",
       "      <td>0</td>\n",
       "      <td>0</td>\n",
       "      <td>0</td>\n",
       "      <td>0</td>\n",
       "      <td>0</td>\n",
       "      <td>1</td>\n",
       "      <td>0</td>\n",
       "      <td>0</td>\n",
       "      <td>0</td>\n",
       "      <td>0</td>\n",
       "      <td>0</td>\n",
       "      <td>0</td>\n",
       "      <td>0</td>\n",
       "      <td>1</td>\n",
       "      <td>0</td>\n",
       "      <td>0</td>\n",
       "      <td>0</td>\n",
       "      <td>0</td>\n",
       "      <td>0</td>\n",
       "      <td>0</td>\n",
       "      <td>0</td>\n",
       "      <td>1</td>\n",
       "      <td>0</td>\n",
       "      <td>0</td>\n",
       "      <td>1</td>\n",
       "      <td>0</td>\n",
       "      <td>1</td>\n",
       "      <td>0</td>\n",
       "      <td>0</td>\n",
       "      <td>0</td>\n",
       "      <td>0</td>\n",
       "      <td>1</td>\n",
       "      <td>0</td>\n",
       "    </tr>\n",
       "    <tr>\n",
       "      <th>4</th>\n",
       "      <td>612</td>\n",
       "      <td>1</td>\n",
       "      <td>1</td>\n",
       "      <td>0</td>\n",
       "      <td>0</td>\n",
       "      <td>1</td>\n",
       "      <td>1270.0</td>\n",
       "      <td>1</td>\n",
       "      <td>0</td>\n",
       "      <td>0</td>\n",
       "      <td>0</td>\n",
       "      <td>0</td>\n",
       "      <td>0</td>\n",
       "      <td>0</td>\n",
       "      <td>0</td>\n",
       "      <td>0</td>\n",
       "      <td>1</td>\n",
       "      <td>0</td>\n",
       "      <td>0</td>\n",
       "      <td>0</td>\n",
       "      <td>0</td>\n",
       "      <td>0</td>\n",
       "      <td>0</td>\n",
       "      <td>0</td>\n",
       "      <td>1</td>\n",
       "      <td>0</td>\n",
       "      <td>0</td>\n",
       "      <td>0</td>\n",
       "      <td>0</td>\n",
       "      <td>0</td>\n",
       "      <td>0</td>\n",
       "      <td>0</td>\n",
       "      <td>1</td>\n",
       "      <td>0</td>\n",
       "      <td>0</td>\n",
       "      <td>1</td>\n",
       "      <td>0</td>\n",
       "      <td>1</td>\n",
       "      <td>0</td>\n",
       "      <td>0</td>\n",
       "      <td>0</td>\n",
       "      <td>0</td>\n",
       "      <td>1</td>\n",
       "      <td>0</td>\n",
       "    </tr>\n",
       "  </tbody>\n",
       "</table>\n",
       "</div>"
      ],
      "text/plain": [
       "   Customers  Open  Promo  Promo2 StateHoliday  ...  Assortment_c  Season_Fall  Season_Spring  Season_Summer  Season_Winter\n",
       "0        555     1      1       0            0  ...             0            0              0              1              0\n",
       "1        546     1      1       0            0  ...             0            0              0              1              0\n",
       "2        523     1      1       0            0  ...             0            0              0              1              0\n",
       "3        560     1      1       0            0  ...             0            0              0              1              0\n",
       "4        612     1      1       0            0  ...             0            0              0              1              0\n",
       "\n",
       "[5 rows x 44 columns]"
      ]
     },
     "execution_count": 54,
     "metadata": {},
     "output_type": "execute_result"
    }
   ],
   "source": [
    "final_df.head()"
   ]
  },
  {
   "cell_type": "code",
   "execution_count": 55,
   "id": "780c609b-f764-4ee6-9a07-59d703b39a73",
   "metadata": {},
   "outputs": [
    {
     "data": {
      "text/plain": [
       "(1017209, 44)"
      ]
     },
     "execution_count": 55,
     "metadata": {},
     "output_type": "execute_result"
    }
   ],
   "source": [
    "final_df.shape"
   ]
  },
  {
   "cell_type": "code",
   "execution_count": 56,
   "id": "11f0d596-c9e0-4b36-8d8d-4eaf6808ffbd",
   "metadata": {},
   "outputs": [
    {
     "data": {
      "text/plain": [
       "(0          4\n",
       " 1          3\n",
       " 2          2\n",
       " 3          1\n",
       " 4          0\n",
       "           ..\n",
       " 1017204    5\n",
       " 1017205    4\n",
       " 1017206    3\n",
       " 1017207    2\n",
       " 1017208    1\n",
       " Name: Date, Length: 1017209, dtype: int32,\n",
       " 0          5\n",
       " 1          4\n",
       " 2          3\n",
       " 3          2\n",
       " 4          1\n",
       "           ..\n",
       " 1017204    6\n",
       " 1017205    5\n",
       " 1017206    4\n",
       " 1017207    3\n",
       " 1017208    2\n",
       " Name: DayOfWeek, Length: 1017209, dtype: int64)"
      ]
     },
     "execution_count": 56,
     "metadata": {},
     "output_type": "execute_result"
    }
   ],
   "source": [
    "df['Date'].dt.dayofweek,df['DayOfWeek']"
   ]
  },
  {
   "cell_type": "code",
   "execution_count": 57,
   "id": "858a8f1a-453f-4d43-8e67-dc922f569784",
   "metadata": {},
   "outputs": [
    {
     "data": {
      "text/plain": [
       "Customers                int64\n",
       "Open                     int64\n",
       "Promo                    int64\n",
       "Promo2                   int64\n",
       "StateHoliday            object\n",
       "SchoolHoliday            int64\n",
       "CompetitionDistance    float64\n",
       "DayOfWeek_1              int32\n",
       "DayOfWeek_2              int32\n",
       "DayOfWeek_3              int32\n",
       "DayOfWeek_4              int32\n",
       "DayOfWeek_5              int32\n",
       "DayOfWeek_6              int32\n",
       "DayOfWeek_7              int32\n",
       "Quarter_1                int32\n",
       "Quarter_2                int32\n",
       "Quarter_3                int32\n",
       "Quarter_4                int32\n",
       "Month_1                  int32\n",
       "Month_2                  int32\n",
       "Month_3                  int32\n",
       "Month_4                  int32\n",
       "Month_5                  int32\n",
       "Month_6                  int32\n",
       "Month_7                  int32\n",
       "Month_8                  int32\n",
       "Month_9                  int32\n",
       "Month_10                 int32\n",
       "Month_11                 int32\n",
       "Month_12                 int32\n",
       "Year_2013                int32\n",
       "Year_2014                int32\n",
       "Year_2015                int32\n",
       "StoreType_a              int32\n",
       "StoreType_b              int32\n",
       "StoreType_c              int32\n",
       "StoreType_d              int32\n",
       "Assortment_a             int32\n",
       "Assortment_b             int32\n",
       "Assortment_c             int32\n",
       "Season_Fall              int32\n",
       "Season_Spring            int32\n",
       "Season_Summer            int32\n",
       "Season_Winter            int32\n",
       "dtype: object"
      ]
     },
     "execution_count": 57,
     "metadata": {},
     "output_type": "execute_result"
    }
   ],
   "source": [
    "final_df.dtypes"
   ]
  },
  {
   "cell_type": "code",
   "execution_count": 58,
   "id": "581df068-057b-4326-ae3e-6de04e6007f3",
   "metadata": {},
   "outputs": [
    {
     "data": {
      "text/plain": [
       "StateHoliday\n",
       "0    855087\n",
       "0    131072\n",
       "a     20260\n",
       "b      6690\n",
       "c      4100\n",
       "Name: count, dtype: int64"
      ]
     },
     "execution_count": 58,
     "metadata": {},
     "output_type": "execute_result"
    }
   ],
   "source": [
    "final_df['StateHoliday'].value_counts()"
   ]
  },
  {
   "cell_type": "code",
   "execution_count": 59,
   "id": "c9805f76-b98b-4e24-b050-c0eabe8cd9b9",
   "metadata": {},
   "outputs": [],
   "source": [
    "a =pd.Series( final_df['StateHoliday'].replace({\"0\":0,'a':1,\"b\":1,'c':1}))"
   ]
  },
  {
   "cell_type": "code",
   "execution_count": 60,
   "id": "93fabcdb-3fb7-4688-8990-30267406d9ae",
   "metadata": {},
   "outputs": [
    {
     "data": {
      "text/plain": [
       "StateHoliday\n",
       "0    986159\n",
       "1     31050\n",
       "Name: count, dtype: int64"
      ]
     },
     "execution_count": 60,
     "metadata": {},
     "output_type": "execute_result"
    }
   ],
   "source": [
    "a.value_counts()"
   ]
  },
  {
   "cell_type": "code",
   "execution_count": 61,
   "id": "81ae7d9b-7631-4f78-9421-4cfacc813385",
   "metadata": {},
   "outputs": [],
   "source": [
    "b = pd.Series(np.where(final_df['StateHoliday'] == '0' , 0 , 1 ))"
   ]
  },
  {
   "cell_type": "code",
   "execution_count": 62,
   "id": "87d2d4cd-9df6-4882-9a6b-7f5415d8f6af",
   "metadata": {},
   "outputs": [
    {
     "data": {
      "text/plain": [
       "0    855087\n",
       "1    162122\n",
       "Name: count, dtype: int64"
      ]
     },
     "execution_count": 62,
     "metadata": {},
     "output_type": "execute_result"
    }
   ],
   "source": [
    "b.value_counts()"
   ]
  },
  {
   "cell_type": "code",
   "execution_count": 63,
   "id": "ceff31e6-9a64-41ff-8c93-c267d4e506ea",
   "metadata": {},
   "outputs": [],
   "source": [
    "mapper = {\"0\":0,'a':1,\"b\":1,'c':1,0:0}"
   ]
  },
  {
   "cell_type": "code",
   "execution_count": 64,
   "id": "6b7f21f2-1994-440c-8fb9-61e37329464b",
   "metadata": {},
   "outputs": [],
   "source": [
    "b = df['StateHoliday'].map(mapper)"
   ]
  },
  {
   "cell_type": "code",
   "execution_count": 65,
   "id": "8626adc4-486b-47fb-a7bd-917dd11b9a88",
   "metadata": {},
   "outputs": [
    {
     "data": {
      "text/plain": [
       "StateHoliday\n",
       "0    986159\n",
       "1     31050\n",
       "Name: count, dtype: int64"
      ]
     },
     "execution_count": 65,
     "metadata": {},
     "output_type": "execute_result"
    }
   ],
   "source": [
    "b.value_counts()"
   ]
  },
  {
   "cell_type": "code",
   "execution_count": 66,
   "id": "381d63f0-23b5-4688-bbe8-b1c8ce25b1c3",
   "metadata": {},
   "outputs": [],
   "source": [
    "final_df['StateHoliday'] = df['StateHoliday'].apply(lambda x : 0 if x in ['0',0] else 1)"
   ]
  },
  {
   "cell_type": "code",
   "execution_count": 67,
   "id": "4d3b810f-d7cb-4fb1-bdd5-45866cc2e7a1",
   "metadata": {},
   "outputs": [
    {
     "data": {
      "text/plain": [
       "StateHoliday\n",
       "0    986159\n",
       "1     31050\n",
       "Name: count, dtype: int64"
      ]
     },
     "execution_count": 67,
     "metadata": {},
     "output_type": "execute_result"
    }
   ],
   "source": [
    "final_df['StateHoliday'].value_counts()"
   ]
  },
  {
   "cell_type": "code",
   "execution_count": 68,
   "id": "3078fcdd-2c37-43da-b30a-710b14c115fb",
   "metadata": {},
   "outputs": [
    {
     "data": {
      "text/plain": [
       "Index(['Customers', 'Open', 'Promo', 'Promo2', 'StateHoliday', 'SchoolHoliday',\n",
       "       'CompetitionDistance', 'DayOfWeek_1', 'DayOfWeek_2', 'DayOfWeek_3',\n",
       "       'DayOfWeek_4', 'DayOfWeek_5', 'DayOfWeek_6', 'DayOfWeek_7', 'Quarter_1',\n",
       "       'Quarter_2', 'Quarter_3', 'Quarter_4', 'Month_1', 'Month_2', 'Month_3',\n",
       "       'Month_4', 'Month_5', 'Month_6', 'Month_7', 'Month_8', 'Month_9',\n",
       "       'Month_10', 'Month_11', 'Month_12', 'Year_2013', 'Year_2014',\n",
       "       'Year_2015', 'StoreType_a', 'StoreType_b', 'StoreType_c', 'StoreType_d',\n",
       "       'Assortment_a', 'Assortment_b', 'Assortment_c', 'Season_Fall',\n",
       "       'Season_Spring', 'Season_Summer', 'Season_Winter'],\n",
       "      dtype='object')"
      ]
     },
     "execution_count": 68,
     "metadata": {},
     "output_type": "execute_result"
    }
   ],
   "source": [
    "final_df.columns "
   ]
  },
  {
   "cell_type": "code",
   "execution_count": 69,
   "id": "7fbda6e1-ffea-4a14-a600-29c1bb4b8d92",
   "metadata": {},
   "outputs": [
    {
     "data": {
      "text/plain": [
       "(1017209, 44)"
      ]
     },
     "execution_count": 69,
     "metadata": {},
     "output_type": "execute_result"
    }
   ],
   "source": [
    "final_df.shape"
   ]
  },
  {
   "cell_type": "code",
   "execution_count": 70,
   "id": "2225fc09-b3f4-451b-a730-398e974f2450",
   "metadata": {},
   "outputs": [],
   "source": [
    "from sklearn.model_selection import train_test_split"
   ]
  },
  {
   "cell_type": "code",
   "execution_count": 71,
   "id": "63926d17-0ca5-405a-a529-e76d54461584",
   "metadata": {},
   "outputs": [],
   "source": [
    "xtrain,xtest,ytrain,ytest = train_test_split(final_df,df[['Sales']],test_size=0.2,random_state=9090)"
   ]
  },
  {
   "cell_type": "code",
   "execution_count": 72,
   "id": "b8d6f936-6a47-4fd8-853c-051e14efee2f",
   "metadata": {},
   "outputs": [],
   "source": [
    "xtrain,xval,ytrain,yval = train_test_split(xtrain,ytrain,test_size=0.1,random_state=909)"
   ]
  },
  {
   "cell_type": "code",
   "execution_count": 73,
   "id": "441626b6-b607-4d4f-a4ee-9ecd33d4d5ee",
   "metadata": {},
   "outputs": [
    {
     "data": {
      "text/plain": [
       "((732390, 44), (81377, 44), (203442, 44))"
      ]
     },
     "execution_count": 73,
     "metadata": {},
     "output_type": "execute_result"
    }
   ],
   "source": [
    "xtrain.shape , xval.shape , xtest.shape"
   ]
  },
  {
   "cell_type": "code",
   "execution_count": 74,
   "id": "7b70440c-ea8a-44e2-af11-2610d1e8e938",
   "metadata": {},
   "outputs": [
    {
     "data": {
      "text/plain": [
       "((732390, 1), (81377, 1), (203442, 1))"
      ]
     },
     "execution_count": 74,
     "metadata": {},
     "output_type": "execute_result"
    }
   ],
   "source": [
    "ytrain.shape , yval.shape , ytest.shape"
   ]
  },
  {
   "cell_type": "code",
   "execution_count": 75,
   "id": "d65a7275-ae30-4a6b-8188-48d940124fd6",
   "metadata": {},
   "outputs": [
    {
     "data": {
      "text/plain": [
       "Sales    5773.521352\n",
       "dtype: float64"
      ]
     },
     "execution_count": 75,
     "metadata": {},
     "output_type": "execute_result"
    }
   ],
   "source": [
    "ytrain.mean()"
   ]
  },
  {
   "cell_type": "code",
   "execution_count": 76,
   "id": "0c0d9eaf-b55c-4ff0-ba2b-bf9e00aa4cc9",
   "metadata": {},
   "outputs": [
    {
     "data": {
      "text/plain": [
       "Sales    2888.215159\n",
       "dtype: float64"
      ]
     },
     "execution_count": 76,
     "metadata": {},
     "output_type": "execute_result"
    }
   ],
   "source": [
    "abs(ytrain - ytrain.mean()).mean()"
   ]
  },
  {
   "cell_type": "code",
   "execution_count": 77,
   "id": "75c071b0-5bdc-4f91-aa4b-703620450c9c",
   "metadata": {},
   "outputs": [],
   "source": [
    "from keras.models import Sequential\n",
    "from keras.layers import Dense , Dropout"
   ]
  },
  {
   "cell_type": "code",
   "execution_count": 78,
   "id": "8df8c149-b9c8-4da1-a724-9e3bdd890e90",
   "metadata": {},
   "outputs": [],
   "source": [
    "model = Sequential()"
   ]
  },
  {
   "cell_type": "code",
   "execution_count": 79,
   "id": "690b65ff-b44a-40cb-aa2d-d43d922465f0",
   "metadata": {},
   "outputs": [],
   "source": [
    "model.add(Dense(150,input_dim=44,activation='relu'))"
   ]
  },
  {
   "cell_type": "code",
   "execution_count": 80,
   "id": "abe1fc0f-dfe1-482f-91fd-e16c4fbac937",
   "metadata": {},
   "outputs": [],
   "source": [
    "model.add(Dense(1,activation='linear'))"
   ]
  },
  {
   "cell_type": "code",
   "execution_count": 81,
   "id": "d2f9c898-7891-4cee-b765-f570956cf737",
   "metadata": {},
   "outputs": [],
   "source": [
    "model.compile(optimizer='adam',loss='mean_absolute_error',metrics=['mean_absolute_error'])"
   ]
  },
  {
   "cell_type": "code",
   "execution_count": 82,
   "id": "ae829737-fb57-421b-ba07-f4220ea76177",
   "metadata": {},
   "outputs": [
    {
     "name": "stdout",
     "output_type": "stream",
     "text": [
      "Epoch 1/10\n",
      "\u001b[1m11444/11444\u001b[0m \u001b[32m━━━━━━━━━━━━━━━━━━━━\u001b[0m\u001b[37m\u001b[0m \u001b[1m24s\u001b[0m 2ms/step - loss: 1210.2614 - mean_absolute_error: 1210.2614 - val_loss: 850.5189 - val_mean_absolute_error: 850.5189\n",
      "Epoch 2/10\n",
      "\u001b[1m11444/11444\u001b[0m \u001b[32m━━━━━━━━━━━━━━━━━━━━\u001b[0m\u001b[37m\u001b[0m \u001b[1m21s\u001b[0m 2ms/step - loss: 811.5108 - mean_absolute_error: 811.5108 - val_loss: 747.0541 - val_mean_absolute_error: 747.0541\n",
      "Epoch 3/10\n",
      "\u001b[1m11444/11444\u001b[0m \u001b[32m━━━━━━━━━━━━━━━━━━━━\u001b[0m\u001b[37m\u001b[0m \u001b[1m19s\u001b[0m 2ms/step - loss: 747.3748 - mean_absolute_error: 747.3748 - val_loss: 734.0901 - val_mean_absolute_error: 734.0901\n",
      "Epoch 4/10\n",
      "\u001b[1m11444/11444\u001b[0m \u001b[32m━━━━━━━━━━━━━━━━━━━━\u001b[0m\u001b[37m\u001b[0m \u001b[1m17s\u001b[0m 1ms/step - loss: 729.9717 - mean_absolute_error: 729.9717 - val_loss: 763.9467 - val_mean_absolute_error: 763.9467\n",
      "Epoch 5/10\n",
      "\u001b[1m11444/11444\u001b[0m \u001b[32m━━━━━━━━━━━━━━━━━━━━\u001b[0m\u001b[37m\u001b[0m \u001b[1m19s\u001b[0m 2ms/step - loss: 718.7319 - mean_absolute_error: 718.7319 - val_loss: 707.6964 - val_mean_absolute_error: 707.6964\n",
      "Epoch 6/10\n",
      "\u001b[1m11444/11444\u001b[0m \u001b[32m━━━━━━━━━━━━━━━━━━━━\u001b[0m\u001b[37m\u001b[0m \u001b[1m18s\u001b[0m 2ms/step - loss: 711.3533 - mean_absolute_error: 711.3533 - val_loss: 704.2588 - val_mean_absolute_error: 704.2588\n",
      "Epoch 7/10\n",
      "\u001b[1m11444/11444\u001b[0m \u001b[32m━━━━━━━━━━━━━━━━━━━━\u001b[0m\u001b[37m\u001b[0m \u001b[1m18s\u001b[0m 2ms/step - loss: 704.1498 - mean_absolute_error: 704.1498 - val_loss: 696.8223 - val_mean_absolute_error: 696.8223\n",
      "Epoch 8/10\n",
      "\u001b[1m11444/11444\u001b[0m \u001b[32m━━━━━━━━━━━━━━━━━━━━\u001b[0m\u001b[37m\u001b[0m \u001b[1m19s\u001b[0m 2ms/step - loss: 699.3672 - mean_absolute_error: 699.3672 - val_loss: 688.4670 - val_mean_absolute_error: 688.4670\n",
      "Epoch 9/10\n",
      "\u001b[1m11444/11444\u001b[0m \u001b[32m━━━━━━━━━━━━━━━━━━━━\u001b[0m\u001b[37m\u001b[0m \u001b[1m18s\u001b[0m 2ms/step - loss: 695.3888 - mean_absolute_error: 695.3888 - val_loss: 697.6331 - val_mean_absolute_error: 697.6331\n",
      "Epoch 10/10\n",
      "\u001b[1m11444/11444\u001b[0m \u001b[32m━━━━━━━━━━━━━━━━━━━━\u001b[0m\u001b[37m\u001b[0m \u001b[1m19s\u001b[0m 2ms/step - loss: 688.7299 - mean_absolute_error: 688.7299 - val_loss: 681.1684 - val_mean_absolute_error: 681.1684\n"
     ]
    },
    {
     "data": {
      "text/plain": [
       "<keras.src.callbacks.history.History at 0x1eb1f063260>"
      ]
     },
     "execution_count": 82,
     "metadata": {},
     "output_type": "execute_result"
    }
   ],
   "source": [
    "model.fit(xtrain.values,ytrain.values,validation_data=(xval,yval),batch_size=64,epochs=10)"
   ]
  },
  {
   "cell_type": "code",
   "execution_count": 83,
   "id": "f861d985-8c8c-4783-86f4-d1526721b9a9",
   "metadata": {},
   "outputs": [
    {
     "name": "stdout",
     "output_type": "stream",
     "text": [
      "\u001b[1m6358/6358\u001b[0m \u001b[32m━━━━━━━━━━━━━━━━━━━━\u001b[0m\u001b[37m\u001b[0m \u001b[1m6s\u001b[0m 997us/step - loss: 677.0242 - mean_absolute_error: 677.0242\n"
     ]
    }
   ],
   "source": [
    "result = model.evaluate(xtest,ytest)"
   ]
  },
  {
   "cell_type": "code",
   "execution_count": 84,
   "id": "7b49a422-d64e-4c47-aa2a-8e3138d464fd",
   "metadata": {},
   "outputs": [
    {
     "data": {
      "text/plain": [
       "(['loss', 'compile_metrics'], [675.2410888671875, 675.2410888671875])"
      ]
     },
     "execution_count": 84,
     "metadata": {},
     "output_type": "execute_result"
    }
   ],
   "source": [
    "model.metrics_names,result"
   ]
  },
  {
   "cell_type": "code",
   "execution_count": null,
   "id": "a6ede2ae-ef13-4893-a40d-cedf31ab1bcd",
   "metadata": {},
   "outputs": [],
   "source": []
  },
  {
   "cell_type": "code",
   "execution_count": 85,
   "id": "b08ef37b-a396-4564-a248-35fdcb223ad1",
   "metadata": {},
   "outputs": [],
   "source": [
    "model = Sequential()"
   ]
  },
  {
   "cell_type": "code",
   "execution_count": 86,
   "id": "deab1fad-e049-41a4-9756-28d1960c9c9c",
   "metadata": {},
   "outputs": [],
   "source": [
    "model.add(Dense(300,input_dim=44,activation='relu'))"
   ]
  },
  {
   "cell_type": "code",
   "execution_count": 87,
   "id": "672606df-5e7c-481d-9b35-b3823f33ed0f",
   "metadata": {},
   "outputs": [],
   "source": [
    "model.add(Dense(300,activation='relu'))"
   ]
  },
  {
   "cell_type": "code",
   "execution_count": 88,
   "id": "958e191a-d3ae-402f-8b26-bd35a8b03aad",
   "metadata": {},
   "outputs": [],
   "source": [
    "model.add(Dense(100,activation='relu'))"
   ]
  },
  {
   "cell_type": "code",
   "execution_count": 89,
   "id": "6e1d1c6b-70fe-4849-b49c-8c3587a0a99f",
   "metadata": {},
   "outputs": [],
   "source": [
    "model.add(Dense(1,activation='linear'))"
   ]
  },
  {
   "cell_type": "code",
   "execution_count": 90,
   "id": "ffee1b5d-0312-4e65-ba6c-44317a2157c9",
   "metadata": {},
   "outputs": [],
   "source": [
    "model.compile(optimizer='adamax',loss='mean_squared_error',metrics=['mean_absolute_error'])"
   ]
  },
  {
   "cell_type": "code",
   "execution_count": 91,
   "id": "79f8a6f4-a225-45d7-a714-517855e204d0",
   "metadata": {},
   "outputs": [
    {
     "name": "stdout",
     "output_type": "stream",
     "text": [
      "Epoch 1/10\n",
      "\u001b[1m5722/5722\u001b[0m \u001b[32m━━━━━━━━━━━━━━━━━━━━\u001b[0m\u001b[37m\u001b[0m \u001b[1m25s\u001b[0m 4ms/step - loss: 3751627.0000 - mean_absolute_error: 1147.4142 - val_loss: 1554974.3750 - val_mean_absolute_error: 826.9277\n",
      "Epoch 2/10\n",
      "\u001b[1m5722/5722\u001b[0m \u001b[32m━━━━━━━━━━━━━━━━━━━━\u001b[0m\u001b[37m\u001b[0m \u001b[1m24s\u001b[0m 4ms/step - loss: 1461124.3750 - mean_absolute_error: 806.4940 - val_loss: 1225926.0000 - val_mean_absolute_error: 748.0925\n",
      "Epoch 3/10\n",
      "\u001b[1m5722/5722\u001b[0m \u001b[32m━━━━━━━━━━━━━━━━━━━━\u001b[0m\u001b[37m\u001b[0m \u001b[1m23s\u001b[0m 4ms/step - loss: 1218968.5000 - mean_absolute_error: 741.1538 - val_loss: 1370388.7500 - val_mean_absolute_error: 814.5691\n",
      "Epoch 4/10\n",
      "\u001b[1m5722/5722\u001b[0m \u001b[32m━━━━━━━━━━━━━━━━━━━━\u001b[0m\u001b[37m\u001b[0m \u001b[1m23s\u001b[0m 4ms/step - loss: 1127143.0000 - mean_absolute_error: 716.3354 - val_loss: 1058009.8750 - val_mean_absolute_error: 693.0123\n",
      "Epoch 5/10\n",
      "\u001b[1m5722/5722\u001b[0m \u001b[32m━━━━━━━━━━━━━━━━━━━━\u001b[0m\u001b[37m\u001b[0m \u001b[1m22s\u001b[0m 4ms/step - loss: 1084755.5000 - mean_absolute_error: 703.7410 - val_loss: 1057124.5000 - val_mean_absolute_error: 694.4177\n",
      "Epoch 6/10\n",
      "\u001b[1m5722/5722\u001b[0m \u001b[32m━━━━━━━━━━━━━━━━━━━━\u001b[0m\u001b[37m\u001b[0m \u001b[1m22s\u001b[0m 4ms/step - loss: 1063051.1250 - mean_absolute_error: 696.4049 - val_loss: 1001979.5625 - val_mean_absolute_error: 675.9737\n",
      "Epoch 7/10\n",
      "\u001b[1m5722/5722\u001b[0m \u001b[32m━━━━━━━━━━━━━━━━━━━━\u001b[0m\u001b[37m\u001b[0m \u001b[1m21s\u001b[0m 4ms/step - loss: 1037535.0000 - mean_absolute_error: 684.4276 - val_loss: 1082074.5000 - val_mean_absolute_error: 700.4582\n",
      "Epoch 8/10\n",
      "\u001b[1m5722/5722\u001b[0m \u001b[32m━━━━━━━━━━━━━━━━━━━━\u001b[0m\u001b[37m\u001b[0m \u001b[1m21s\u001b[0m 4ms/step - loss: 1005623.2500 - mean_absolute_error: 676.3774 - val_loss: 1006397.8125 - val_mean_absolute_error: 671.7686\n",
      "Epoch 9/10\n",
      "\u001b[1m5722/5722\u001b[0m \u001b[32m━━━━━━━━━━━━━━━━━━━━\u001b[0m\u001b[37m\u001b[0m \u001b[1m21s\u001b[0m 4ms/step - loss: 997400.4375 - mean_absolute_error: 671.2165 - val_loss: 967014.7500 - val_mean_absolute_error: 661.7124\n",
      "Epoch 10/10\n",
      "\u001b[1m5722/5722\u001b[0m \u001b[32m━━━━━━━━━━━━━━━━━━━━\u001b[0m\u001b[37m\u001b[0m \u001b[1m23s\u001b[0m 4ms/step - loss: 985962.2500 - mean_absolute_error: 667.3848 - val_loss: 1011246.6875 - val_mean_absolute_error: 673.6381\n"
     ]
    }
   ],
   "source": [
    "history = model.fit(xtrain,ytrain,validation_data=(xval,yval),batch_size=128,epochs=10)"
   ]
  },
  {
   "cell_type": "code",
   "execution_count": null,
   "id": "5b1c1ce2-e1dd-4a76-8dbc-f2951638105a",
   "metadata": {},
   "outputs": [],
   "source": []
  },
  {
   "cell_type": "code",
   "execution_count": 92,
   "id": "0308a5cb-afa1-43c6-a977-8d7561fe4a7f",
   "metadata": {},
   "outputs": [],
   "source": [
    "from keras.callbacks import History"
   ]
  },
  {
   "cell_type": "code",
   "execution_count": 93,
   "id": "1b363edb-9da3-450f-8fe4-3690ca518683",
   "metadata": {},
   "outputs": [],
   "source": [
    "history = History()"
   ]
  },
  {
   "cell_type": "code",
   "execution_count": 94,
   "id": "13805ccf-2958-4362-aa5d-3a5619ec3b9a",
   "metadata": {},
   "outputs": [],
   "source": [
    "model = Sequential()"
   ]
  },
  {
   "cell_type": "code",
   "execution_count": 95,
   "id": "7e49457c-d48a-4abb-8d27-6f0e58e8d061",
   "metadata": {},
   "outputs": [],
   "source": [
    "model.add(Dense(150,input_dim=44 ,activation='relu'))"
   ]
  },
  {
   "cell_type": "code",
   "execution_count": 96,
   "id": "11ae71de-ad0d-49fa-a639-772c2e69e150",
   "metadata": {},
   "outputs": [],
   "source": [
    "model.add(Dense(150,activation='relu'))"
   ]
  },
  {
   "cell_type": "code",
   "execution_count": 97,
   "id": "cdffc9e2-3ec2-4bfd-ba20-5ed220e525e9",
   "metadata": {},
   "outputs": [],
   "source": [
    "model.add(Dense(150,activation='relu'))"
   ]
  },
  {
   "cell_type": "code",
   "execution_count": 98,
   "id": "e6db1d7d-6f75-4a73-931b-0a4c33226899",
   "metadata": {},
   "outputs": [],
   "source": [
    "model.add(Dense(150,activation='relu'))"
   ]
  },
  {
   "cell_type": "code",
   "execution_count": 99,
   "id": "94f229a4-cbef-4aaf-bcfd-5e3e12c5ee8c",
   "metadata": {},
   "outputs": [],
   "source": [
    "model.add(Dense(1,activation='linear'))"
   ]
  },
  {
   "cell_type": "code",
   "execution_count": 100,
   "id": "3a1aa895-dbb1-4c87-a905-62fb59428600",
   "metadata": {},
   "outputs": [],
   "source": [
    "model.compile(optimizer='adam',loss='mean_absolute_error',metrics=['mean_absolute_error'])"
   ]
  },
  {
   "cell_type": "code",
   "execution_count": 101,
   "id": "0223c789-9153-4d07-a7be-59def8f592ac",
   "metadata": {},
   "outputs": [
    {
     "name": "stdout",
     "output_type": "stream",
     "text": [
      "Epoch 1/15\n",
      "\u001b[1m22888/22888\u001b[0m \u001b[32m━━━━━━━━━━━━━━━━━━━━\u001b[0m\u001b[37m\u001b[0m \u001b[1m51s\u001b[0m 2ms/step - loss: 920.3929 - mean_absolute_error: 920.3929 - val_loss: 743.6246 - val_mean_absolute_error: 743.6246\n",
      "Epoch 2/15\n",
      "\u001b[1m22888/22888\u001b[0m \u001b[32m━━━━━━━━━━━━━━━━━━━━\u001b[0m\u001b[37m\u001b[0m \u001b[1m48s\u001b[0m 2ms/step - loss: 723.5856 - mean_absolute_error: 723.5856 - val_loss: 827.5822 - val_mean_absolute_error: 827.5822\n",
      "Epoch 3/15\n",
      "\u001b[1m22888/22888\u001b[0m \u001b[32m━━━━━━━━━━━━━━━━━━━━\u001b[0m\u001b[37m\u001b[0m \u001b[1m49s\u001b[0m 2ms/step - loss: 702.8343 - mean_absolute_error: 702.8343 - val_loss: 697.9416 - val_mean_absolute_error: 697.9416\n",
      "Epoch 4/15\n",
      "\u001b[1m22888/22888\u001b[0m \u001b[32m━━━━━━━━━━━━━━━━━━━━\u001b[0m\u001b[37m\u001b[0m \u001b[1m49s\u001b[0m 2ms/step - loss: 688.4307 - mean_absolute_error: 688.4307 - val_loss: 806.4985 - val_mean_absolute_error: 806.4985\n",
      "Epoch 5/15\n",
      "\u001b[1m22888/22888\u001b[0m \u001b[32m━━━━━━━━━━━━━━━━━━━━\u001b[0m\u001b[37m\u001b[0m \u001b[1m51s\u001b[0m 2ms/step - loss: 683.5530 - mean_absolute_error: 683.5530 - val_loss: 688.3882 - val_mean_absolute_error: 688.3882\n",
      "Epoch 6/15\n",
      "\u001b[1m22888/22888\u001b[0m \u001b[32m━━━━━━━━━━━━━━━━━━━━\u001b[0m\u001b[37m\u001b[0m \u001b[1m50s\u001b[0m 2ms/step - loss: 676.2978 - mean_absolute_error: 676.2978 - val_loss: 662.3742 - val_mean_absolute_error: 662.3742\n",
      "Epoch 7/15\n",
      "\u001b[1m22888/22888\u001b[0m \u001b[32m━━━━━━━━━━━━━━━━━━━━\u001b[0m\u001b[37m\u001b[0m \u001b[1m49s\u001b[0m 2ms/step - loss: 673.7791 - mean_absolute_error: 673.7791 - val_loss: 662.4815 - val_mean_absolute_error: 662.4815\n",
      "Epoch 8/15\n",
      "\u001b[1m22888/22888\u001b[0m \u001b[32m━━━━━━━━━━━━━━━━━━━━\u001b[0m\u001b[37m\u001b[0m \u001b[1m50s\u001b[0m 2ms/step - loss: 668.0270 - mean_absolute_error: 668.0270 - val_loss: 690.0873 - val_mean_absolute_error: 690.0873\n",
      "Epoch 9/15\n",
      "\u001b[1m22888/22888\u001b[0m \u001b[32m━━━━━━━━━━━━━━━━━━━━\u001b[0m\u001b[37m\u001b[0m \u001b[1m50s\u001b[0m 2ms/step - loss: 664.2803 - mean_absolute_error: 664.2803 - val_loss: 649.1157 - val_mean_absolute_error: 649.1157\n",
      "Epoch 10/15\n",
      "\u001b[1m22888/22888\u001b[0m \u001b[32m━━━━━━━━━━━━━━━━━━━━\u001b[0m\u001b[37m\u001b[0m \u001b[1m50s\u001b[0m 2ms/step - loss: 660.5406 - mean_absolute_error: 660.5406 - val_loss: 649.1624 - val_mean_absolute_error: 649.1624\n",
      "Epoch 11/15\n",
      "\u001b[1m22888/22888\u001b[0m \u001b[32m━━━━━━━━━━━━━━━━━━━━\u001b[0m\u001b[37m\u001b[0m \u001b[1m42s\u001b[0m 2ms/step - loss: 657.9127 - mean_absolute_error: 657.9127 - val_loss: 641.8766 - val_mean_absolute_error: 641.8766\n",
      "Epoch 12/15\n",
      "\u001b[1m22888/22888\u001b[0m \u001b[32m━━━━━━━━━━━━━━━━━━━━\u001b[0m\u001b[37m\u001b[0m \u001b[1m40s\u001b[0m 2ms/step - loss: 654.0911 - mean_absolute_error: 654.0911 - val_loss: 649.8490 - val_mean_absolute_error: 649.8490\n",
      "Epoch 13/15\n",
      "\u001b[1m22888/22888\u001b[0m \u001b[32m━━━━━━━━━━━━━━━━━━━━\u001b[0m\u001b[37m\u001b[0m \u001b[1m41s\u001b[0m 2ms/step - loss: 650.9048 - mean_absolute_error: 650.9048 - val_loss: 642.7642 - val_mean_absolute_error: 642.7642\n",
      "Epoch 14/15\n",
      "\u001b[1m22888/22888\u001b[0m \u001b[32m━━━━━━━━━━━━━━━━━━━━\u001b[0m\u001b[37m\u001b[0m \u001b[1m41s\u001b[0m 2ms/step - loss: 648.9482 - mean_absolute_error: 648.9482 - val_loss: 646.2867 - val_mean_absolute_error: 646.2867\n",
      "Epoch 15/15\n",
      "\u001b[1m22888/22888\u001b[0m \u001b[32m━━━━━━━━━━━━━━━━━━━━\u001b[0m\u001b[37m\u001b[0m \u001b[1m40s\u001b[0m 2ms/step - loss: 645.5914 - mean_absolute_error: 645.5914 - val_loss: 652.9712 - val_mean_absolute_error: 652.9712\n"
     ]
    },
    {
     "data": {
      "text/plain": [
       "<keras.src.callbacks.history.History at 0x1eb75d838f0>"
      ]
     },
     "execution_count": 101,
     "metadata": {},
     "output_type": "execute_result"
    }
   ],
   "source": [
    "model.fit(xtrain,ytrain,validation_data=(xval,yval),batch_size=32,epochs=15,callbacks=[history])"
   ]
  },
  {
   "cell_type": "code",
   "execution_count": 102,
   "id": "74b56d37-f657-407e-b6ee-10b8ba176e20",
   "metadata": {},
   "outputs": [
    {
     "data": {
      "text/plain": [
       "[810.3778686523438,\n",
       " 716.459228515625,\n",
       " 699.2147216796875,\n",
       " 688.8088989257812,\n",
       " 681.2658081054688,\n",
       " 675.8306884765625,\n",
       " 671.3143920898438,\n",
       " 667.1490478515625,\n",
       " 663.2234497070312,\n",
       " 660.1201171875,\n",
       " 656.9741821289062,\n",
       " 654.0176391601562,\n",
       " 651.4555053710938,\n",
       " 648.0194091796875,\n",
       " 646.12939453125]"
      ]
     },
     "execution_count": 102,
     "metadata": {},
     "output_type": "execute_result"
    }
   ],
   "source": [
    "history.history['loss']"
   ]
  },
  {
   "cell_type": "code",
   "execution_count": 104,
   "id": "a696ddec-63ef-4c74-9297-be37a598f3b4",
   "metadata": {},
   "outputs": [
    {
     "data": {
      "text/plain": [
       "[743.6246337890625,\n",
       " 827.5822143554688,\n",
       " 697.9415893554688,\n",
       " 806.49853515625,\n",
       " 688.3882446289062,\n",
       " 662.3742065429688,\n",
       " 662.4815063476562,\n",
       " 690.0872802734375,\n",
       " 649.11572265625,\n",
       " 649.162353515625,\n",
       " 641.8765869140625,\n",
       " 649.8489990234375,\n",
       " 642.76416015625,\n",
       " 646.2867431640625,\n",
       " 652.97119140625]"
      ]
     },
     "execution_count": 104,
     "metadata": {},
     "output_type": "execute_result"
    }
   ],
   "source": [
    "history.history['val_loss']"
   ]
  },
  {
   "cell_type": "code",
   "execution_count": 105,
   "id": "853e31ac-3960-4c47-a1e1-343c8f3aae14",
   "metadata": {},
   "outputs": [
    {
     "data": {
      "image/png": "[encoded data removed]",
      "text/plain": [
       "<Figure size 640x480 with 1 Axes>"
      ]
     },
     "metadata": {},
     "output_type": "display_data"
    }
   ],
   "source": [
    "plt.plot(history.history['loss'])\n",
    "plt.plot(history.history['val_loss'])\n",
    "plt.title(\"Model\\'s Training and Validation across each epochs\")\n",
    "plt.xlabel('Epochs')\n",
    "plt.ylabel('Loss')\n",
    "plt.legend(['Train','Validation'])\n",
    "plt.show()"
   ]
  },
  {
   "cell_type": "code",
   "execution_count": 106,
   "id": "2de3a8a8-a0eb-4827-96df-a670f17eb355",
   "metadata": {},
   "outputs": [
    {
     "data": {
      "text/html": [
       "<div>\n",
       "<style scoped>\n",
       "    .dataframe tbody tr th:only-of-type {\n",
       "        vertical-align: middle;\n",
       "    }\n",
       "\n",
       "    .dataframe tbody tr th {\n",
       "        vertical-align: top;\n",
       "    }\n",
       "\n",
       "    .dataframe thead th {\n",
       "        text-align: right;\n",
       "    }\n",
       "</style>\n",
       "<table border=\"1\" class=\"dataframe\">\n",
       "  <thead>\n",
       "    <tr style=\"text-align: right;\">\n",
       "      <th></th>\n",
       "      <th>Sales</th>\n",
       "    </tr>\n",
       "  </thead>\n",
       "  <tbody>\n",
       "    <tr>\n",
       "      <th>840890</th>\n",
       "      <td>4025</td>\n",
       "    </tr>\n",
       "    <tr>\n",
       "      <th>17618</th>\n",
       "      <td>3400</td>\n",
       "    </tr>\n",
       "    <tr>\n",
       "      <th>821554</th>\n",
       "      <td>4137</td>\n",
       "    </tr>\n",
       "    <tr>\n",
       "      <th>815405</th>\n",
       "      <td>11724</td>\n",
       "    </tr>\n",
       "    <tr>\n",
       "      <th>477770</th>\n",
       "      <td>7611</td>\n",
       "    </tr>\n",
       "  </tbody>\n",
       "</table>\n",
       "</div>"
      ],
      "text/plain": [
       "        Sales\n",
       "840890   4025\n",
       "17618    3400\n",
       "821554   4137\n",
       "815405  11724\n",
       "477770   7611"
      ]
     },
     "execution_count": 106,
     "metadata": {},
     "output_type": "execute_result"
    }
   ],
   "source": [
    "ytest.head()"
   ]
  },
  {
   "cell_type": "code",
   "execution_count": 107,
   "id": "02e69a9e-2305-4ce3-96e0-ca1ea2f71ffd",
   "metadata": {},
   "outputs": [
    {
     "name": "stdout",
     "output_type": "stream",
     "text": [
      "\u001b[1m6358/6358\u001b[0m \u001b[32m━━━━━━━━━━━━━━━━━━━━\u001b[0m\u001b[37m\u001b[0m \u001b[1m6s\u001b[0m 955us/step\n"
     ]
    }
   ],
   "source": [
    "ytest['Prediction'] = model.predict(xtest)"
   ]
  },
  {
   "cell_type": "code",
   "execution_count": 108,
   "id": "5967a272-26a6-437c-9cff-20e775b9bb7b",
   "metadata": {},
   "outputs": [
    {
     "data": {
      "text/html": [
       "<div>\n",
       "<style scoped>\n",
       "    .dataframe tbody tr th:only-of-type {\n",
       "        vertical-align: middle;\n",
       "    }\n",
       "\n",
       "    .dataframe tbody tr th {\n",
       "        vertical-align: top;\n",
       "    }\n",
       "\n",
       "    .dataframe thead th {\n",
       "        text-align: right;\n",
       "    }\n",
       "</style>\n",
       "<table border=\"1\" class=\"dataframe\">\n",
       "  <thead>\n",
       "    <tr style=\"text-align: right;\">\n",
       "      <th></th>\n",
       "      <th>Sales</th>\n",
       "      <th>Prediction</th>\n",
       "    </tr>\n",
       "  </thead>\n",
       "  <tbody>\n",
       "    <tr>\n",
       "      <th>840890</th>\n",
       "      <td>4025</td>\n",
       "      <td>3834.805664</td>\n",
       "    </tr>\n",
       "    <tr>\n",
       "      <th>17618</th>\n",
       "      <td>3400</td>\n",
       "      <td>3342.682617</td>\n",
       "    </tr>\n",
       "    <tr>\n",
       "      <th>821554</th>\n",
       "      <td>4137</td>\n",
       "      <td>5336.414551</td>\n",
       "    </tr>\n",
       "    <tr>\n",
       "      <th>815405</th>\n",
       "      <td>11724</td>\n",
       "      <td>9708.856445</td>\n",
       "    </tr>\n",
       "    <tr>\n",
       "      <th>477770</th>\n",
       "      <td>7611</td>\n",
       "      <td>6730.034668</td>\n",
       "    </tr>\n",
       "  </tbody>\n",
       "</table>\n",
       "</div>"
      ],
      "text/plain": [
       "        Sales   Prediction\n",
       "840890   4025  3834.805664\n",
       "17618    3400  3342.682617\n",
       "821554   4137  5336.414551\n",
       "815405  11724  9708.856445\n",
       "477770   7611  6730.034668"
      ]
     },
     "execution_count": 108,
     "metadata": {},
     "output_type": "execute_result"
    }
   ],
   "source": [
    "ytest.head()"
   ]
  },
  {
   "cell_type": "code",
   "execution_count": 109,
   "id": "bfa54de0-95f5-4a2c-87a0-c8d5710b42b8",
   "metadata": {},
   "outputs": [],
   "source": [
    "from sklearn.metrics import mean_absolute_error,mean_squared_error"
   ]
  },
  {
   "cell_type": "code",
   "execution_count": 113,
   "id": "a2915d13-5933-44c0-99b6-78641ff90ff8",
   "metadata": {},
   "outputs": [
    {
     "name": "stdout",
     "output_type": "stream",
     "text": [
      "648.97559051656\n"
     ]
    }
   ],
   "source": [
    "print(mean_absolute_error(ytest.Sales,ytest.Prediction))"
   ]
  },
  {
   "cell_type": "code",
   "execution_count": 114,
   "id": "4b08173a-61cd-49eb-bb8c-79fb56a83a48",
   "metadata": {},
   "outputs": [
    {
     "name": "stdout",
     "output_type": "stream",
     "text": [
      "975799.264012335\n"
     ]
    }
   ],
   "source": [
    "print(mean_squared_error(ytest.Sales,ytest.Prediction))"
   ]
  },
  {
   "cell_type": "code",
   "execution_count": 116,
   "id": "f0fe0c2a-9d62-4974-ab83-b4e88ab88916",
   "metadata": {},
   "outputs": [
    {
     "name": "stderr",
     "output_type": "stream",
     "text": [
      "WARNING:absl:You are saving your model as an HDF5 file via `model.save()` or `keras.saving.save_model(model)`. This file format is considered legacy. We recommend using instead the native Keras format, e.g. `model.save('my_model.keras')` or `keras.saving.save_model(model, 'my_model.keras')`. \n"
     ]
    }
   ],
   "source": [
    "model.save('my_model.h5')"
   ]
  },
  {
   "cell_type": "code",
   "execution_count": null,
   "id": "ae34413a-8361-401d-ae36-32cb83a533ae",
   "metadata": {},
   "outputs": [],
   "source": []
  }
 ],
 "metadata": {
  "kernelspec": {
   "display_name": "Python 3 (ipykernel)",
   "language": "python",
   "name": "python3"
  },
  "language_info": {
   "codemirror_mode": {
    "name": "ipython",
    "version": 3
   },
   "file_extension": ".py",
   "mimetype": "text/x-python",
   "name": "python",
   "nbconvert_exporter": "python",
   "pygments_lexer": "ipython3",
   "version": "3.12.3"
  }
 },
 "nbformat": 4,
 "nbformat_minor": 5
}
